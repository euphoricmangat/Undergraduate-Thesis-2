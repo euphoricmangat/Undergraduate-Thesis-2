{
 "cells": [
  {
   "cell_type": "markdown",
   "metadata": {},
   "source": [
    "### Simulation of a quantum computer\n"
   ]
  },
  {
   "cell_type": "code",
   "execution_count": 36,
   "metadata": {
    "collapsed": true
   },
   "outputs": [],
   "source": [
    "#Alpha beta Convention taken from Michael Nielsen's Youtube series 'Quantum Computing for the Determined'\n",
    "\n",
    "from random import random, randint"
   ]
  },
  {
   "cell_type": "code",
   "execution_count": 37,
   "metadata": {
    "collapsed": true
   },
   "outputs": [],
   "source": [
    "class qubit(object) :\n",
    "    def __init__(self) :\n",
    "        self.alpha = random()\n",
    "        self.beta = (1 - self.alpha**2)**0.5\n",
    "        self.measured = False\n",
    "    \n",
    "    def isValid(self, a, b) :\n",
    "        if ((a**2 + b**2) > 1) or (a < 0) or (b < 0) or (a > 1) or (b > 1) or self.measured:\n",
    "            return False\n",
    "        else :\n",
    "            return True\n",
    "    def setStates(self, a, b) :\n",
    "        if self.isValid(a, b) and not self.measured:\n",
    "            self.alpha = a\n",
    "            self.beta = b\n",
    "            return True\n",
    "        else :\n",
    "            return False\n",
    "    def getStates(self) :\n",
    "        #only for verification, remove in end\n",
    "        if not self.measured :\n",
    "            return self.alpha, self.beta\n",
    "        else :\n",
    "            return False\n",
    "    def negate(self):\n",
    "        if not self.measured :\n",
    "            self.alpha, self.beta = self.beta, self.alpha\n",
    "\n",
    "    def hadamard(self) :\n",
    "        if self.measured :\n",
    "            return\n",
    "        root2 = 2**0.5\n",
    "        a = self.alpha + self.beta\n",
    "        b = self.alpha - self.beta\n",
    "        self.alpha = a/root2\n",
    "        self.beta = b/root2\n",
    "    \n",
    "    def measure(self) :\n",
    "        #not accurate probabilites\n",
    "        if not self.measured :\n",
    "            lim = 5 #10^lim will be the size of list\n",
    "            proba = int(str(self.alpha**2)[2:lim+2])\n",
    "            probb = 10**lim - proba\n",
    "            L = [0 for x in range(proba)]\n",
    "            for i in range(probb) : L.insert(randint(0, 10**lim-1), 1)\n",
    "            result = L[randint(0, 10**lim-1)]\n",
    "            self.measured = True #You lose the values of alpha and beta now\n",
    "            del self.alpha\n",
    "            del self.beta\n",
    "            return result\n",
    "\n",
    "\n"
   ]
  },
  {
   "cell_type": "code",
   "execution_count": 6,
   "metadata": {},
   "outputs": [
    {
     "name": "stdout",
     "output_type": "stream",
     "text": [
      "(0.6820147925295239, 0.7313383777506213)\n",
      "1\n"
     ]
    }
   ],
   "source": [
    "a = qubit()\n",
    "print(a.getStates())\n",
    "print(a.measure())\n"
   ]
  },
  {
   "cell_type": "code",
   "execution_count": null,
   "metadata": {
    "collapsed": true
   },
   "outputs": [],
   "source": [
    "\n",
    "'''\n",
    "Float precision is only upto 16 decimal places which is going to be a drawback later\n",
    "So I plan on making the '0.' irrelevant and make use of the infinite (i think) integer precision\n",
    "that python offers. First priority is to get the fundamentals are right\n",
    "'''"
   ]
  },
  {
   "cell_type": "markdown",
   "metadata": {},
   "source": []
  },
  {
   "cell_type": "markdown",
   "metadata": {},
   "source": [
    "----------------------------------------------------------------------------END-----------------------------------------------------------------------------------------------------------------------------"
   ]
  },
  {
   "cell_type": "markdown",
   "metadata": {},
   "source": []
  },
  {
   "cell_type": "code",
   "execution_count": 7,
   "metadata": {
    "collapsed": true
   },
   "outputs": [],
   "source": [
    "import cmath\n",
    "import math\n",
    "import numpy as np\n",
    "import scipy as sp"
   ]
  },
  {
   "cell_type": "code",
   "execution_count": null,
   "metadata": {
    "collapsed": true
   },
   "outputs": [],
   "source": [
    "posi = complex(0, 1)\n",
    "negi = complex(0, -1)\n",
    "\n",
    "#Zero State |0>\n",
    "zero = np.matrix([[1],[0]])\n",
    "\n",
    "#One State |1>\n",
    "one = np.matrix([[0],[1]])\n",
    "\n",
    "#Plus State |+>\n",
    "plus = 1/math.sqrt(2) * np.matrix([[1],[1]])\n",
    "\n",
    "#Minus State |->\n",
    "minus = 1/math.sqrt(2) * np.matrix([[1],[-1]])"
   ]
  },
  {
   "cell_type": "code",
   "execution_count": 12,
   "metadata": {
    "collapsed": true
   },
   "outputs": [],
   "source": [
    "class gates:\n",
    "\n",
    "    \"\"\"ONE QBIT\"\"\"\n",
    "    #NOT Gate\n",
    "    def xgate(qinput):\n",
    "        xmat = np.matrix([[0, 1],\n",
    "                        [1, 0]])\n",
    "        return np.dot(xmat, qinput)\n",
    "\n",
    "    #Sqaure Root NOT Gate\n",
    "    def sqrtxgate(qinput):\n",
    "        sxmat = np.matrix([[posi, negi],\n",
    "                        [negi, posi]])\n",
    "        return np.dot(sxmat, qinput)\n",
    "\n",
    "    #Z Gate\n",
    "    def zgate(qinput):\n",
    "        zmat = np.matrix([[1, 0],\n",
    "                        [0, -1]])\n",
    "        return np.dot(zmat, qinput)\n",
    "\n",
    "    #Y Gate\n",
    "    def ygate(qinput):\n",
    "        ymat = np.matrix([[0, negi],\n",
    "                        [posi, 0]])\n",
    "        return np.dot(ymat, qinput)\n",
    "\n",
    "    #Hadamard Gate\n",
    "    def hadamard(qinput):\n",
    "        hmat = 1/math.sqrt(2) * np.matrix([[1, 1],\n",
    "                                        [1, -1]])\n",
    "        return np.dot(hmat, qinput)\n",
    "\n",
    "    \"\"\"TWO QBITS\"\"\"\n",
    "    #CNOT Gate\n",
    "    def cnot(qbitone, qinput):\n",
    "        cmat = np.matrix([[1, 0, 0, 0],\n",
    "                        [0, 1, 0, 0],\n",
    "                        [1, 0, 0, 1],\n",
    "                        [0, 1, 1, 0]])\n",
    "        retarr = np.dot(cmat, qinput)\n",
    "        np.put(retarr, [0, 1], [qbitone[0], qbitone[1]])\n",
    "        return retarr\n",
    "\n",
    "    #Swap Gate\n",
    "    def swap(qinput):\n",
    "        smat = np.matrix([[1, 0, 0, 0],\n",
    "                        [0, 0, 1, 0],\n",
    "                        [0, 1, 0, 0],\n",
    "                        [0, 0, 0, 1]])\n",
    "        return np.dot(smat, qinput)\n",
    "\n",
    "    #Square Root Swap\n",
    "    def sqrtswap(qinput):\n",
    "        ssmat = np.matrix([[1, 0, 0, 0],\n",
    "                        [0 , 1/2 * posi, 1/2 * negi, 0],\n",
    "                        [0, 1/2 * negi, 1/2 * posi, 0],\n",
    "                        [0, 0, 0, 1]])\n",
    "        return np.dot(ssmat, qinput)\n",
    "\n",
    "    #Ising (XX) Gate\n",
    "    def ising(qinput, qphi):\n",
    "        imat = 1/math.sqrt(2) * np.matrix([[1, 0, 0, cmath.exp(posi*(1 - math.pi/2))],\n",
    "                                        [0, 1, negi, 0],\n",
    "                                        [0, negi, 1, 0],\n",
    "                                        [cmath.exp(posi*(1 - math.pi/2)), 0, 0, 1]])\n",
    "        return np.dot(imat, qinput)\n",
    "\n",
    "    \"\"\"THREE QBITS\"\"\"\n",
    "    #Toffoli Gate\n",
    "    def toffoli(qinput):\n",
    "        tmat = np.matrix([[1, 0, 0, 0, 0, 0, 0, 0],\n",
    "                        [0, 1, 0, 0, 0, 0, 0, 0],\n",
    "                        [0, 0, 1, 0, 0, 0, 0, 0],\n",
    "                        [0, 0, 0, 1, 0, 0, 0, 0],\n",
    "                        [0, 0, 0, 0, 1, 0, 0, 0],\n",
    "                        [0, 0, 0, 0, 0, 1, 0, 0],\n",
    "                        [1, 0, 0, 0, 0, 0, 0, 1],\n",
    "                        [1, 0, 0, 0, 0, 0, 1, 0]])\n",
    "        return np.dot(tmat, qinput)\n",
    "\n",
    "    #Fredkin Gate\n",
    "    def fredkin(qinput):\n",
    "        fmat = np.matrix([[1, 0, 0, 0, 0, 0, 0, 0],\n",
    "                        [0, 1, 0, 0, 0, 0, 0, 0],\n",
    "                        [0, 0, 1, 0, 0, 0, 0, 0],\n",
    "                        [0, 0, 0, 1, 0, 0, 0, 0],\n",
    "                        [0, 0, 0, 0, 1, 0, 0, 0],\n",
    "                        [0, 0, 0, 0, 0, 0, 1, 0],\n",
    "                        [1, 0, 0, 0, 0, 1, 0, 0],\n",
    "                        [0, 0, 0, 0, 0, 0, 0, 1]])\n",
    "        return np.dot(fmat, qinput)\n",
    "\n",
    "    #Peres Gate\n",
    "    def peres(qinput):\n",
    "        pmat = np.matrix([[1, 0, 0, 0, 0, 0, 0, 0],\n",
    "                        [0, 1, 0, 0, 0, 0, 0, 0],\n",
    "                        [0, 0, 1, 0, 0, 0, 0, 0],\n",
    "                        [0, 0, 0, 1, 0, 0, 0, 0],\n",
    "                        [0, 0, 0, 0, 0, 0, 1, 0],\n",
    "                        [0, 0, 0, 0, 0, 0, 0, 1],\n",
    "                        [0, 0, 0, 0, 0, 1, 0, 0],\n",
    "                        [0, 0, 0, 0, 1, 0, 0, 0]])\n",
    "        return np.dot(pmat, qinput)\n",
    "\n",
    "    \"\"\"INF QBITS\"\"\"\n",
    "    #CU Gate\n",
    "    def cu(qinput):\n",
    "        qtemp = qinput\n",
    "        print(qinput[[0]])\n",
    "        if qtemp[[0]] == 1:\n",
    "            for i in range(len(qtemp)):\n",
    "                qtemp[i + 1] = gates.xgate(qinput[i + 1])\n",
    "            return qtemp\n",
    "\n"
   ]
  },
  {
   "cell_type": "code",
   "execution_count": 16,
   "metadata": {
    "collapsed": true
   },
   "outputs": [],
   "source": [
    "class assembly:\n",
    "\n",
    "    def nkron(*args):\n",
    "        result = np.array([[1]])\n",
    "        for op in args:\n",
    "            result = np.kron(result, op)\n",
    "        return result"
   ]
  },
  {
   "cell_type": "code",
   "execution_count": 42,
   "metadata": {},
   "outputs": [],
   "source": [
    "qin0 = np.matrix('1;0;0;0;0;0;0;0') #|0>\n",
    "qin1 = np.matrix('0;1') #|1>\n",
    "qrand = np.matrix('0.86602540378;0.5')"
   ]
  },
  {
   "cell_type": "markdown",
   "metadata": {},
   "source": [
    "##### Hadamard preserves length"
   ]
  },
  {
   "cell_type": "code",
   "execution_count": 28,
   "metadata": {},
   "outputs": [
    {
     "data": {
      "text/plain": [
       "matrix([[0.70710678],\n",
       "        [0.70710678]])"
      ]
     },
     "execution_count": 28,
     "metadata": {},
     "output_type": "execute_result"
    }
   ],
   "source": [
    "gates.hadamard(qin0)"
   ]
  },
  {
   "cell_type": "code",
   "execution_count": 30,
   "metadata": {},
   "outputs": [
    {
     "data": {
      "text/plain": [
       "matrix([[ 0.70710678],\n",
       "        [-0.70710678]])"
      ]
     },
     "execution_count": 30,
     "metadata": {},
     "output_type": "execute_result"
    }
   ],
   "source": [
    "gates.hadamard(qin1)"
   ]
  },
  {
   "cell_type": "code",
   "execution_count": 38,
   "metadata": {},
   "outputs": [
    {
     "data": {
      "text/plain": [
       "matrix([[0.96592583],\n",
       "        [0.25881905]])"
      ]
     },
     "execution_count": 38,
     "metadata": {},
     "output_type": "execute_result"
    }
   ],
   "source": [
    "gates.hadamard(qrand)"
   ]
  },
  {
   "cell_type": "code",
   "execution_count": 43,
   "metadata": {},
   "outputs": [
    {
     "data": {
      "text/plain": [
       "matrix([[1],\n",
       "        [0],\n",
       "        [0],\n",
       "        [0],\n",
       "        [0],\n",
       "        [0],\n",
       "        [1],\n",
       "        [0]])"
      ]
     },
     "execution_count": 43,
     "metadata": {},
     "output_type": "execute_result"
    }
   ],
   "source": [
    "gates.fredkin(qin0)"
   ]
  }
 ],
 "metadata": {
  "kernelspec": {
   "display_name": "Python 3",
   "language": "python",
   "name": "python3"
  },
  "language_info": {
   "codemirror_mode": {
    "name": "ipython",
    "version": 3
   },
   "file_extension": ".py",
   "mimetype": "text/x-python",
   "name": "python",
   "nbconvert_exporter": "python",
   "pygments_lexer": "ipython3",
   "version": "3.5.2"
  }
 },
 "nbformat": 4,
 "nbformat_minor": 2
}
