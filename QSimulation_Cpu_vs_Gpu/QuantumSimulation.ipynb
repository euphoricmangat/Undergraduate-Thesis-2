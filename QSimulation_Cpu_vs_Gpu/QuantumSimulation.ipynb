{
  "nbformat": 4,
  "nbformat_minor": 0,
  "metadata": {
    "colab": {
      "name": "QuantumSimulation.ipynb",
      "version": "0.3.2",
      "provenance": [],
      "collapsed_sections": []
    },
    "kernelspec": {
      "name": "python3",
      "display_name": "Python 3"
    },
    "accelerator": "GPU"
  },
  "cells": [
    {
      "cell_type": "markdown",
      "metadata": {
        "id": "AhDPRy2yljPG",
        "colab_type": "text"
      },
      "source": [
        "# Let's simulate quantum circuit on gpu!\n",
        "***Please open this in the play ground!!! ***"
      ]
    },
    {
      "cell_type": "markdown",
      "metadata": {
        "id": "amS9hNSJl_wl",
        "colab_type": "text"
      },
      "source": [
        "### Today, we use **CuPy** module for using gpu easily from Python. CuPy is module for using CUDA which is IDE for GPU coding.[Cupy](https://cupy.chainer.org/)\n",
        "\n",
        "You can run the script with Ctrl-Shift"
      ]
    },
    {
      "cell_type": "code",
      "metadata": {
        "id": "oArMjSxblpWL",
        "colab_type": "code",
        "outputId": "22b34614-7f07-489e-e8dc-082f5cf0929a",
        "colab": {
          "base_uri": "https://localhost:8080/",
          "height": 34
        }
      },
      "source": [
        "import tensorflow as tf\n",
        "tf.test.gpu_device_name()"
      ],
      "execution_count": 1,
      "outputs": [
        {
          "output_type": "execute_result",
          "data": {
            "text/plain": [
              "'/device:GPU:0'"
            ]
          },
          "metadata": {
            "tags": []
          },
          "execution_count": 1
        }
      ]
    },
    {
      "cell_type": "markdown",
      "metadata": {
        "id": "JCBGvsim8fq_",
        "colab_type": "text"
      },
      "source": [
        "If there are some gpu name, it works.\n",
        "Let me know if there are no gpu devices.('/device:GPU:0' is fine)"
      ]
    },
    {
      "cell_type": "markdown",
      "metadata": {
        "id": "vMoe1krWDAhi",
        "colab_type": "text"
      },
      "source": [
        "Install cupy and qiskit(this may take a little time)"
      ]
    },
    {
      "cell_type": "code",
      "metadata": {
        "id": "vy_UFcCipyQS",
        "colab_type": "code",
        "outputId": "a1d9dcce-bb3f-48e9-e538-55db06dceacb",
        "colab": {
          "base_uri": "https://localhost:8080/",
          "height": 2485
        }
      },
      "source": [
        "!curl https://colab.chainer.org/install | sh -\n",
        "! pip install qiskit  # to make circuit figure"
      ],
      "execution_count": 2,
      "outputs": [
        {
          "output_type": "stream",
          "text": [
            "  % Total    % Received % Xferd  Average Speed   Time    Time     Time  Current\n",
            "                                 Dload  Upload   Total   Spent    Left  Speed\n",
            "\r  0     0    0     0    0     0      0      0 --:--:-- --:--:-- --:--:--     0\r100  1580  100  1580    0     0   8729      0 --:--:-- --:--:-- --:--:--  8729\n",
            "+ apt -y -q install cuda-libraries-dev-10-0\n",
            "Reading package lists...\n",
            "Building dependency tree...\n",
            "Reading state information...\n",
            "cuda-libraries-dev-10-0 is already the newest version (10.0.130-1).\n",
            "The following package was automatically installed and is no longer required:\n",
            "  libnvidia-common-410\n",
            "Use 'apt autoremove' to remove it.\n",
            "0 upgraded, 0 newly installed, 0 to remove and 6 not upgraded.\n",
            "+ pip install -q cupy-cuda100  chainer \n",
            "+ set +ex\n",
            "Installation succeeded!\n",
            "Collecting qiskit\n",
            "  Downloading https://files.pythonhosted.org/packages/b4/3c/c741c16ac0cca3ec58d344cffc0a9f9e5a185abb86257dc9ce72fe47c6c3/qiskit-0.10.2.tar.gz\n",
            "Collecting qiskit_terra==0.8.0 (from qiskit)\n",
            "\u001b[?25l  Downloading https://files.pythonhosted.org/packages/8c/2d/6b24485910f98155d055ca20af877ad3a12c1447d425c12fe3fd1363e8bc/qiskit_terra-0.8.0-cp36-cp36m-manylinux1_x86_64.whl (1.5MB)\n",
            "\u001b[K     |████████████████████████████████| 1.5MB 4.8MB/s \n",
            "\u001b[?25hCollecting qiskit-aer==0.2.1 (from qiskit)\n",
            "\u001b[?25l  Downloading https://files.pythonhosted.org/packages/bf/f2/cf8f6433457ff91ddc94b9dc0c3c5c5c7bc75159a1c1d0cd621606248abb/qiskit_aer-0.2.1-cp36-cp36m-manylinux1_x86_64.whl (21.3MB)\n",
            "\u001b[K     |████████████████████████████████| 21.3MB 35.6MB/s \n",
            "\u001b[?25hCollecting qiskit-ibmq-provider==0.2.2 (from qiskit)\n",
            "\u001b[?25l  Downloading https://files.pythonhosted.org/packages/5f/46/5d950ad9ca8db2029104438967c6a29f66645a23fd8e8764e7df01f1dbcf/qiskit-ibmq-provider-0.2.2.tar.gz (40kB)\n",
            "\u001b[K     |████████████████████████████████| 40kB 20.5MB/s \n",
            "\u001b[?25hCollecting qiskit-ignis==0.1.1 (from qiskit)\n",
            "\u001b[?25l  Downloading https://files.pythonhosted.org/packages/6e/4e/77230b3a51a864fd54c2ef7b6a0d417063cf4b18943ce8fcd45e15f74f3e/qiskit_ignis-0.1.1-py3-none-any.whl (78kB)\n",
            "\u001b[K     |████████████████████████████████| 81kB 28.1MB/s \n",
            "\u001b[?25hCollecting qiskit-aqua==0.5.1 (from qiskit)\n",
            "\u001b[?25l  Downloading https://files.pythonhosted.org/packages/3e/54/c24fafbce45a7fc3d018ada5c45a5b71f3760b5ee65029ab290f43aa2672/qiskit_aqua-0.5.1-py3-none-any.whl (401kB)\n",
            "\u001b[K     |████████████████████████████████| 409kB 50.5MB/s \n",
            "\u001b[?25hCollecting qiskit-chemistry==0.5.0 (from qiskit)\n",
            "\u001b[?25l  Downloading https://files.pythonhosted.org/packages/41/35/6b10aa3ea2fbe1b64cb0c3b2eaecb23cff044b574b151e8adc9ab9fbfe9a/qiskit_chemistry-0.5.0-py3-none-any.whl (516kB)\n",
            "\u001b[K     |████████████████████████████████| 522kB 48.0MB/s \n",
            "\u001b[?25hRequirement already satisfied: networkx>=2.2 in /usr/local/lib/python3.6/dist-packages (from qiskit_terra==0.8.0->qiskit) (2.3)\n",
            "Requirement already satisfied: scipy>=1.0 in /usr/local/lib/python3.6/dist-packages (from qiskit_terra==0.8.0->qiskit) (1.3.0)\n",
            "Requirement already satisfied: jsonschema<2.7,>=2.6 in /usr/local/lib/python3.6/dist-packages (from qiskit_terra==0.8.0->qiskit) (2.6.0)\n",
            "Collecting ply>=3.10 (from qiskit_terra==0.8.0->qiskit)\n",
            "\u001b[?25l  Downloading https://files.pythonhosted.org/packages/a3/58/35da89ee790598a0700ea49b2a66594140f44dec458c07e8e3d4979137fc/ply-3.11-py2.py3-none-any.whl (49kB)\n",
            "\u001b[K     |████████████████████████████████| 51kB 25.1MB/s \n",
            "\u001b[?25hRequirement already satisfied: psutil>=5 in /usr/local/lib/python3.6/dist-packages (from qiskit_terra==0.8.0->qiskit) (5.4.8)\n",
            "Collecting pylatexenc>=1.4 (from qiskit_terra==0.8.0->qiskit)\n",
            "\u001b[?25l  Downloading https://files.pythonhosted.org/packages/54/ea/8e394f28d532f86241c77ecb8701e51973151059528de028a18c35249e8d/pylatexenc-1.4.tar.gz (47kB)\n",
            "\u001b[K     |████████████████████████████████| 51kB 24.5MB/s \n",
            "\u001b[?25hRequirement already satisfied: numpy>=1.13 in /usr/local/lib/python3.6/dist-packages (from qiskit_terra==0.8.0->qiskit) (1.16.3)\n",
            "Collecting marshmallow-polyfield<4,>=3.2 (from qiskit_terra==0.8.0->qiskit)\n",
            "  Downloading https://files.pythonhosted.org/packages/fa/ba/6406b8cce3e42b2838d234310c3605627083bbb8f71dcc312c616480fe92/marshmallow_polyfield-3.2-py2.py3-none-any.whl\n",
            "Collecting sympy>=1.3 (from qiskit_terra==0.8.0->qiskit)\n",
            "\u001b[?25l  Downloading https://files.pythonhosted.org/packages/21/21/f4105795ca7f35c541d82c5b06be684dd2f5cb4f508fb487cd7aea4de776/sympy-1.4-py2.py3-none-any.whl (5.3MB)\n",
            "\u001b[K     |████████████████████████████████| 5.3MB 38.1MB/s \n",
            "\u001b[?25hRequirement already satisfied: pillow>=4.2.1 in /usr/local/lib/python3.6/dist-packages (from qiskit_terra==0.8.0->qiskit) (4.3.0)\n",
            "Collecting marshmallow<3,>=2.17.0 (from qiskit_terra==0.8.0->qiskit)\n",
            "\u001b[?25l  Downloading https://files.pythonhosted.org/packages/bc/b4/f54f8533aad0645431bfda2cc3d20913a305779c80f8cb71229e8b615c5b/marshmallow-2.19.2-py2.py3-none-any.whl (50kB)\n",
            "\u001b[K     |████████████████████████████████| 51kB 22.0MB/s \n",
            "\u001b[?25hRequirement already satisfied: requests>=2.19 in /usr/local/lib/python3.6/dist-packages (from qiskit-ibmq-provider==0.2.2->qiskit) (2.21.0)\n",
            "Collecting requests-ntlm>=1.1.0 (from qiskit-ibmq-provider==0.2.2->qiskit)\n",
            "  Downloading https://files.pythonhosted.org/packages/03/4b/8b9a1afde8072c4d5710d9fa91433d504325821b038e00237dc8d6d833dc/requests_ntlm-1.1.0-py2.py3-none-any.whl\n",
            "Collecting websockets<8,>=7 (from qiskit-ibmq-provider==0.2.2->qiskit)\n",
            "\u001b[?25l  Downloading https://files.pythonhosted.org/packages/43/71/8bfa882b9c502c36e5c9ef6732969533670d2b039cbf95a82ced8f762b80/websockets-7.0-cp36-cp36m-manylinux1_x86_64.whl (63kB)\n",
            "\u001b[K     |████████████████████████████████| 71kB 29.1MB/s \n",
            "\u001b[?25hCollecting dlx (from qiskit-aqua==0.5.1->qiskit)\n",
            "  Downloading https://files.pythonhosted.org/packages/54/c0/b8fb5bb727e983b6f5251433ef941b48f38c65bb0bd6ec509e9185bcd406/dlx-1.0.4.tar.gz\n",
            "Requirement already satisfied: cvxopt in /usr/local/lib/python3.6/dist-packages (from qiskit-aqua==0.5.1->qiskit) (1.2.3)\n",
            "Requirement already satisfied: fastdtw in /usr/local/lib/python3.6/dist-packages (from qiskit-aqua==0.5.1->qiskit) (0.3.2)\n",
            "Collecting pyeda; sys_platform != \"win32\" (from qiskit-aqua==0.5.1->qiskit)\n",
            "\u001b[?25l  Downloading https://files.pythonhosted.org/packages/01/29/b6ce038a75409239db8762b4744c8b53eb62e0b6240ece1c2969a7250206/pyeda-0.28.0.tar.gz (478kB)\n",
            "\u001b[K     |████████████████████████████████| 481kB 44.2MB/s \n",
            "\u001b[?25hCollecting docplex (from qiskit-aqua==0.5.1->qiskit)\n",
            "\u001b[?25l  Downloading https://files.pythonhosted.org/packages/83/e7/5882561091830be9047fe29b4304714ddc0aaf403c8c123ad2e87f4a0376/docplex-2.9.141.tar.gz (501kB)\n",
            "\u001b[K     |████████████████████████████████| 501kB 40.6MB/s \n",
            "\u001b[?25hRequirement already satisfied: setuptools>=40.1.0 in /usr/local/lib/python3.6/dist-packages (from qiskit-aqua==0.5.1->qiskit) (41.0.1)\n",
            "Requirement already satisfied: scikit-learn>=0.20.0 in /usr/local/lib/python3.6/dist-packages (from qiskit-aqua==0.5.1->qiskit) (0.21.1)\n",
            "Collecting quandl (from qiskit-aqua==0.5.1->qiskit)\n",
            "  Downloading https://files.pythonhosted.org/packages/12/64/6314547cb01fa75697ddba6d6d43a9f1d023c1730ffc6abf3db7a0c89222/Quandl-3.4.8-py2.py3-none-any.whl\n",
            "Collecting pyscf; sys_platform != \"win32\" (from qiskit-chemistry==0.5.0->qiskit)\n",
            "\u001b[?25l  Downloading https://files.pythonhosted.org/packages/50/a9/94b4db1d0ec1089c13db54c2d52c4d8e516e8492cd61d8324731e413feff/pyscf-1.6.1.post1-cp36-cp36m-manylinux1_x86_64.whl (21.4MB)\n",
            "\u001b[K     |████████████████████████████████| 21.4MB 44.9MB/s \n",
            "\u001b[?25hRequirement already satisfied: h5py in /usr/local/lib/python3.6/dist-packages (from qiskit-chemistry==0.5.0->qiskit) (2.8.0)\n",
            "Requirement already satisfied: decorator>=4.3.0 in /usr/local/lib/python3.6/dist-packages (from networkx>=2.2->qiskit_terra==0.8.0->qiskit) (4.4.0)\n",
            "Requirement already satisfied: mpmath>=0.19 in /usr/local/lib/python3.6/dist-packages (from sympy>=1.3->qiskit_terra==0.8.0->qiskit) (1.1.0)\n",
            "Requirement already satisfied: olefile in /usr/local/lib/python3.6/dist-packages (from pillow>=4.2.1->qiskit_terra==0.8.0->qiskit) (0.46)\n",
            "Requirement already satisfied: urllib3<1.25,>=1.21.1 in /usr/local/lib/python3.6/dist-packages (from requests>=2.19->qiskit-ibmq-provider==0.2.2->qiskit) (1.24.3)\n",
            "Requirement already satisfied: chardet<3.1.0,>=3.0.2 in /usr/local/lib/python3.6/dist-packages (from requests>=2.19->qiskit-ibmq-provider==0.2.2->qiskit) (3.0.4)\n",
            "Requirement already satisfied: idna<2.9,>=2.5 in /usr/local/lib/python3.6/dist-packages (from requests>=2.19->qiskit-ibmq-provider==0.2.2->qiskit) (2.8)\n",
            "Requirement already satisfied: certifi>=2017.4.17 in /usr/local/lib/python3.6/dist-packages (from requests>=2.19->qiskit-ibmq-provider==0.2.2->qiskit) (2019.3.9)\n",
            "Collecting ntlm-auth>=1.0.2 (from requests-ntlm>=1.1.0->qiskit-ibmq-provider==0.2.2->qiskit)\n",
            "  Downloading https://files.pythonhosted.org/packages/d5/3d/1c54e92f62bbc747a638da94adb439f99dc2d2f3041fe41a06b0da4f2808/ntlm_auth-1.3.0-py2.py3-none-any.whl\n",
            "Collecting cryptography>=1.3 (from requests-ntlm>=1.1.0->qiskit-ibmq-provider==0.2.2->qiskit)\n",
            "\u001b[?25l  Downloading https://files.pythonhosted.org/packages/5b/12/b0409a94dad366d98a8eee2a77678c7a73aafd8c0e4b835abea634ea3896/cryptography-2.6.1-cp34-abi3-manylinux1_x86_64.whl (2.3MB)\n",
            "\u001b[K     |████████████████████████████████| 2.3MB 37.8MB/s \n",
            "\u001b[?25hRequirement already satisfied: six in /usr/local/lib/python3.6/dist-packages (from docplex->qiskit-aqua==0.5.1->qiskit) (1.12.0)\n",
            "Collecting docloud>=1.0.315 (from docplex->qiskit-aqua==0.5.1->qiskit)\n",
            "  Downloading https://files.pythonhosted.org/packages/26/c3/f64eb186f8296603fcd4bf6f1e514e7c57e76ca2bd6d1b37221890e123e3/docloud-1.0.369.tar.gz\n",
            "Requirement already satisfied: joblib>=0.11 in /usr/local/lib/python3.6/dist-packages (from scikit-learn>=0.20.0->qiskit-aqua==0.5.1->qiskit) (0.12.5)\n",
            "Requirement already satisfied: pyasn1 in /usr/local/lib/python3.6/dist-packages (from quandl->qiskit-aqua==0.5.1->qiskit) (0.4.5)\n",
            "Collecting ndg-httpsclient (from quandl->qiskit-aqua==0.5.1->qiskit)\n",
            "  Downloading https://files.pythonhosted.org/packages/fb/67/c2f508c00ed2a6911541494504b7cac16fe0b0473912568df65fd1801132/ndg_httpsclient-0.5.1-py3-none-any.whl\n",
            "Collecting pyOpenSSL (from quandl->qiskit-aqua==0.5.1->qiskit)\n",
            "\u001b[?25l  Downloading https://files.pythonhosted.org/packages/01/c8/ceb170d81bd3941cbeb9940fc6cc2ef2ca4288d0ca8929ea4db5905d904d/pyOpenSSL-19.0.0-py2.py3-none-any.whl (53kB)\n",
            "\u001b[K     |████████████████████████████████| 61kB 29.1MB/s \n",
            "\u001b[?25hRequirement already satisfied: python-dateutil in /usr/local/lib/python3.6/dist-packages (from quandl->qiskit-aqua==0.5.1->qiskit) (2.5.3)\n",
            "Collecting inflection>=0.3.1 (from quandl->qiskit-aqua==0.5.1->qiskit)\n",
            "  Downloading https://files.pythonhosted.org/packages/d5/35/a6eb45b4e2356fe688b21570864d4aa0d0a880ce387defe9c589112077f8/inflection-0.3.1.tar.gz\n",
            "Collecting more-itertools<=5.0.0 (from quandl->qiskit-aqua==0.5.1->qiskit)\n",
            "\u001b[?25l  Downloading https://files.pythonhosted.org/packages/a4/a6/42f17d065bda1fac255db13afc94c93dbfb64393eae37c749b4cb0752fc7/more_itertools-5.0.0-py3-none-any.whl (52kB)\n",
            "\u001b[K     |████████████████████████████████| 61kB 28.9MB/s \n",
            "\u001b[?25hRequirement already satisfied: pandas>=0.14 in /usr/local/lib/python3.6/dist-packages (from quandl->qiskit-aqua==0.5.1->qiskit) (0.24.2)\n",
            "Requirement already satisfied: cffi!=1.11.3,>=1.8 in /usr/local/lib/python3.6/dist-packages (from cryptography>=1.3->requests-ntlm>=1.1.0->qiskit-ibmq-provider==0.2.2->qiskit) (1.12.3)\n",
            "Collecting asn1crypto>=0.21.0 (from cryptography>=1.3->requests-ntlm>=1.1.0->qiskit-ibmq-provider==0.2.2->qiskit)\n",
            "\u001b[?25l  Downloading https://files.pythonhosted.org/packages/ea/cd/35485615f45f30a510576f1a56d1e0a7ad7bd8ab5ed7cdc600ef7cd06222/asn1crypto-0.24.0-py2.py3-none-any.whl (101kB)\n",
            "\u001b[K     |████████████████████████████████| 102kB 36.5MB/s \n",
            "\u001b[?25hRequirement already satisfied: pytz>=2011k in /usr/local/lib/python3.6/dist-packages (from pandas>=0.14->quandl->qiskit-aqua==0.5.1->qiskit) (2018.9)\n",
            "Requirement already satisfied: pycparser in /usr/local/lib/python3.6/dist-packages (from cffi!=1.11.3,>=1.8->cryptography>=1.3->requests-ntlm>=1.1.0->qiskit-ibmq-provider==0.2.2->qiskit) (2.19)\n",
            "Building wheels for collected packages: qiskit, qiskit-ibmq-provider, pylatexenc, dlx, pyeda, docplex, docloud, inflection\n",
            "  Building wheel for qiskit (setup.py) ... \u001b[?25lerror\n",
            "\u001b[31m  ERROR: Failed building wheel for qiskit\u001b[0m\n",
            "\u001b[?25h  Running setup.py clean for qiskit\n",
            "  Building wheel for qiskit-ibmq-provider (setup.py) ... \u001b[?25l\u001b[?25hdone\n",
            "  Stored in directory: /root/.cache/pip/wheels/5f/2d/d0/8071064f052e2fc871eacfc0f512f749400f9040c348c40146\n",
            "  Building wheel for pylatexenc (setup.py) ... \u001b[?25l\u001b[?25hdone\n",
            "  Stored in directory: /root/.cache/pip/wheels/2e/a0/53/8b149c27b27ed5ee9d515f1079612935df3eb5f21350726e40\n",
            "  Building wheel for dlx (setup.py) ... \u001b[?25l\u001b[?25hdone\n",
            "  Stored in directory: /root/.cache/pip/wheels/bb/ba/15/fdd0deb104df3254912998150ba9245668db06b00af5912d1a\n",
            "  Building wheel for pyeda (setup.py) ... \u001b[?25l\u001b[?25hdone\n",
            "  Stored in directory: /root/.cache/pip/wheels/8e/33/76/efb4411454eb542ca9737cdd60418ec23f3625809738d17871\n",
            "  Building wheel for docplex (setup.py) ... \u001b[?25l\u001b[?25hdone\n",
            "  Stored in directory: /root/.cache/pip/wheels/87/a0/8b/d628240de84941fbc744b270701a75d16c2368e1f341264965\n",
            "  Building wheel for docloud (setup.py) ... \u001b[?25l\u001b[?25hdone\n",
            "  Stored in directory: /root/.cache/pip/wheels/83/a9/15/8461c57475540838a2895c5f235d511a2d940d6c573074b2b4\n",
            "  Building wheel for inflection (setup.py) ... \u001b[?25l\u001b[?25hdone\n",
            "  Stored in directory: /root/.cache/pip/wheels/9f/5a/d3/6fc3bf6516d2a3eb7e18f9f28b472110b59325f3f258fe9211\n",
            "Successfully built qiskit-ibmq-provider pylatexenc dlx pyeda docplex docloud inflection\n",
            "Failed to build qiskit\n",
            "\u001b[31mERROR: datascience 0.10.6 has requirement folium==0.2.1, but you'll have folium 0.8.3 which is incompatible.\u001b[0m\n",
            "Installing collected packages: ply, pylatexenc, marshmallow, marshmallow-polyfield, sympy, qiskit-terra, qiskit-aer, ntlm-auth, asn1crypto, cryptography, requests-ntlm, websockets, qiskit-ibmq-provider, qiskit-ignis, dlx, pyeda, docloud, docplex, pyOpenSSL, ndg-httpsclient, inflection, more-itertools, quandl, qiskit-aqua, pyscf, qiskit-chemistry, qiskit\n",
            "  Found existing installation: sympy 1.1.1\n",
            "    Uninstalling sympy-1.1.1:\n",
            "      Successfully uninstalled sympy-1.1.1\n",
            "  Found existing installation: more-itertools 7.0.0\n",
            "    Uninstalling more-itertools-7.0.0:\n",
            "      Successfully uninstalled more-itertools-7.0.0\n",
            "  Running setup.py install for qiskit ... \u001b[?25l\u001b[?25hdone\n",
            "Successfully installed asn1crypto-0.24.0 cryptography-2.6.1 dlx-1.0.4 docloud-1.0.369 docplex-2.9.141 inflection-0.3.1 marshmallow-2.19.2 marshmallow-polyfield-3.2 more-itertools-5.0.0 ndg-httpsclient-0.5.1 ntlm-auth-1.3.0 ply-3.11 pyOpenSSL-19.0.0 pyeda-0.28.0 pylatexenc-1.4 pyscf-1.6.1.post1 qiskit-0.10.2 qiskit-aer-0.2.1 qiskit-aqua-0.5.1 qiskit-chemistry-0.5.0 qiskit-ibmq-provider-0.2.2 qiskit-ignis-0.1.1 qiskit-terra-0.8.0 quandl-3.4.8 requests-ntlm-1.1.0 sympy-1.4 websockets-7.0\n"
          ],
          "name": "stdout"
        }
      ]
    },
    {
      "cell_type": "code",
      "metadata": {
        "id": "curf9ZdEB4O-",
        "colab_type": "code",
        "colab": {}
      },
      "source": [
        "import cupy as cp \n",
        "import numpy as np\n",
        "from pprint import pprint\n",
        "from scipy.linalg import expm  # Thank you Shingy!\n",
        "from qiskit import QuantumRegister, ClassicalRegister, QuantumCircuit  # To visualize circuit"
      ],
      "execution_count": 0,
      "outputs": []
    },
    {
      "cell_type": "markdown",
      "metadata": {
        "id": "m_s76jzEpY7l",
        "colab_type": "text"
      },
      "source": [
        "We can use GPU only changing **np** to **cp**!!  \n",
        "## Compare CPU with GPU."
      ]
    },
    {
      "cell_type": "markdown",
      "metadata": {
        "id": "7XY8aXAsg-9v",
        "colab_type": "text"
      },
      "source": [
        "I prepared basic operations for one and two qubit gate.\n",
        "###CPU"
      ]
    },
    {
      "cell_type": "code",
      "metadata": {
        "id": "o3HRVQfUCILK",
        "colab_type": "code",
        "colab": {}
      },
      "source": [
        "# These are quantum gates on cpu. (j is imaginary unit)\n",
        "id_cpu = np.array(((1, 0), (0, 1)))\n",
        "x_cpu = np.array(((0, 1), (1, 0)))\n",
        "y_cpu = np.array(((0, -1j), (1j, 0)))\n",
        "z_cpu = np.array(((1, 0), (0, -1)))\n",
        "h_cpu = 1/np.sqrt(2)*np.array(((1, 1), (1, -1)))\n",
        "cnot_cpu = np.array(((1, 0, 0, 0), (0, 1, 0, 0), (0, 0, 0, 1), (0, 0, 1, 0)))\n",
        "\n",
        "def u1_cpu(theta):\n",
        "  return np.array(((1, 0), (0, np.exp(-1j*theta))))\n",
        "\n",
        "def cu1_cpu(theta, control, target, qubits=10):\n",
        "  if control == target:\n",
        "    raise Exception(\"control and target must be different number.\")\n",
        "  if control < 0 or target < 0:\n",
        "    raise Exception(\"control and target must be positive.\")\n",
        "  ui1 = u1_cpu(theta)\n",
        "  \n",
        "  I = np.identity(2**qubits)\n",
        "  \n",
        "  # Making hamiltonian of cu1\n",
        "  u1_c = [id_cpu for _ in range(qubits)]\n",
        "  u1_c[control] = ui1\n",
        "  u1_control = u1_c[0]\n",
        "  for i in u1_c[1:]:\n",
        "    u1_control = np.kron(u1_control, i) \n",
        "  \n",
        "  u1_t = [id_cpu for _ in range(qubits)]\n",
        "  u1_t[target] = ui1\n",
        "  u1_target = u1_t[0]\n",
        "  for i in u1_t[1:]:\n",
        "    u1_target = np.kron(u1_target, i)\n",
        "    \n",
        "  # Hamiltonian of cu1 gate.\n",
        "  H_cu1 = 1/(2**(qubits-1))*(I - u1_control - u1_target + np.dot(u1_control, u1_target))\n",
        "  \n",
        "  diag = np.exp(np.diag(H_cu1))\n",
        "#   diag = expm(H_cu1) # in this system, matrix is diagonal. this function was not needed...\n",
        "  \n",
        "  return np.diag(diag)\n",
        "\n",
        "def hcpu(target, qubits=10):\n",
        "  if target < 0:\n",
        "    raise Exception(\"target qubit must be positive\")\n",
        "    \n",
        "  h1 = [id_cpu for _ in range(qubits)]\n",
        "  h1[target] = h_cpu\n",
        "  \n",
        "  h_t = h1[0]\n",
        "  for i in h1[1:]:\n",
        "    h_t = np.kron(h_t, i)\n",
        "    \n",
        "  return h_t"
      ],
      "execution_count": 0,
      "outputs": []
    },
    {
      "cell_type": "markdown",
      "metadata": {
        "id": "H49YFvRrhDcn",
        "colab_type": "text"
      },
      "source": [
        "###GPU\n"
      ]
    },
    {
      "cell_type": "code",
      "metadata": {
        "id": "G_9UUtmQPCHO",
        "colab_type": "code",
        "colab": {}
      },
      "source": [
        "# These are quantum gates on gpu.\n",
        "id_gpu = cp.array(((1, 0), (0, 1)))\n",
        "x_gpu = cp.array(((0, 1), (1, 0)))\n",
        "y_gpu = cp.array(((0, -1j), (1j, 0)))\n",
        "z_gpu = cp.array(((1, 0), (0, -1)))\n",
        "h_gpu = 1/cp.sqrt(2)*cp.array(((1, 1), (1, -1)))\n",
        "cnot_gpu = cp.array(((1, 0, 0, 0), (0, 1, 0, 0), (0, 0, 0, 1), (0, 0, 1, 0)))\n",
        "\n",
        "def u1_gpu(theta):\n",
        "  # if theta = pi, then this gate is equal to controlled-Z gate.\n",
        "  return cp.array(((1, 0), (0, np.exp(-1j*theta))))\n",
        "\n",
        "def cu1_gpu(theta, control, target, qubits=10):\n",
        "  if control == target:\n",
        "    raise Exception(\"control and target must be different number.\")\n",
        "  if control < 0 or target < 0:\n",
        "    raise Exception(\"control and target must be positive.\")\n",
        "  ui1 = u1_gpu(theta)\n",
        "  \n",
        "  I = cp.identity(2**qubits)\n",
        " \n",
        "  # Making hamiltonian of cu1\n",
        "  u1_c = [id_gpu for _ in range(qubits)]\n",
        "  u1_c[control] = ui1\n",
        "  u1_control = u1_c[0]\n",
        "  for i in u1_c[1:]:\n",
        "    u1_control = cp.kron(u1_control, i) \n",
        "  \n",
        "  u1_t = [id_gpu for _ in range(qubits)]\n",
        "  u1_t[target] = ui1\n",
        "  u1_target = u1_t[0]\n",
        "  for i in u1_t[1:]:\n",
        "    u1_target = cp.kron(u1_target, i)\n",
        "    \n",
        "  # Hamiltonian of cu1 gate.\n",
        "  H_cu1 = 1/(2**(qubits-1))*(I - u1_control - u1_target + cp.dot(u1_control, u1_target))\n",
        "  \n",
        "  diag = cp.exp(cp.diag(H_cu1))  \n",
        "#   diag = expm(H_cu1)\n",
        "  \n",
        "  return cp.diag(diag)\n",
        "\n",
        "def hgpu(target, qubits=10):\n",
        "  if target < 0:\n",
        "    raise Exception(\"target qubit must be positive\")\n",
        "    \n",
        "  h1 = [id_gpu for _ in range(qubits)]\n",
        "  h1[target] = h_gpu\n",
        "  \n",
        "  h_t = h1[0]\n",
        "  for i in h1[1:]:\n",
        "    h_t = cp.kron(h_t, i)\n",
        "    \n",
        "  return h_t"
      ],
      "execution_count": 0,
      "outputs": []
    },
    {
      "cell_type": "code",
      "metadata": {
        "id": "96C7rWIsCGUR",
        "colab_type": "code",
        "colab": {}
      },
      "source": [
        "# To check execution time!\n",
        "import time"
      ],
      "execution_count": 0,
      "outputs": []
    },
    {
      "cell_type": "markdown",
      "metadata": {
        "id": "DwVWMyudgUHO",
        "colab_type": "text"
      },
      "source": [
        "## 2 Qubits\n"
      ]
    },
    {
      "cell_type": "markdown",
      "metadata": {
        "id": "_LY4RA9NBF4Y",
        "colab_type": "text"
      },
      "source": [
        "###Qiskit (just making circuit figure.)\n",
        "**Making quantum entanglement.  **\n",
        "\n"
      ]
    },
    {
      "cell_type": "code",
      "metadata": {
        "id": "qdRQnK1tBqv8",
        "colab_type": "code",
        "outputId": "ce61eccb-efe2-4e4d-d57e-f4e39e4fe77c",
        "colab": {
          "base_uri": "https://localhost:8080/",
          "height": 181
        }
      },
      "source": [
        "q = QuantumRegister(2)\n",
        "c = ClassicalRegister(1)\n",
        "qc = QuantumCircuit(q, c)\n",
        "\n",
        "qc.h(q[0])\n",
        "qc.cx(q[0], q[1])\n",
        "qc.draw(output=\"mpl\")"
      ],
      "execution_count": 7,
      "outputs": [
        {
          "output_type": "execute_result",
          "data": {
            "image/png": "[encoded data removed]",
            "text/plain": [
              "<Figure size 301x198.66 with 1 Axes>"
            ]
          },
          "metadata": {
            "tags": []
          },
          "execution_count": 7
        }
      ]
    },
    {
      "cell_type": "markdown",
      "metadata": {
        "id": "hFOk98PhBD8N",
        "colab_type": "text"
      },
      "source": [
        "###CPU\n",
        "\n",
        "***I excluded  the time making multi qubits matrix from 1 qubit.***\n"
      ]
    },
    {
      "cell_type": "code",
      "metadata": {
        "id": "9pZw4o4MfyiW",
        "colab_type": "code",
        "outputId": "bd1e32f0-6dba-4f46-b14b-3d71e292e258",
        "colab": {
          "base_uri": "https://localhost:8080/",
          "height": 51
        }
      },
      "source": [
        "H = np.kron(h_cpu, id_cpu)  # Tensor product of h gate and id gate (h gate for first qubit) \n",
        "\n",
        "start = time.time()  # timer start\n",
        "\n",
        "initial_state = np.array(((1, 0, 0, 0)))  # Initial state is |00>\n",
        "  \n",
        "output = np.dot(np.dot(initial_state, H), cnot_cpu)  #  Making quantum entanglement.\n",
        "\n",
        "exectime = time.time() - start  # timer stop\n",
        "\n",
        "pprint(output)\n",
        "print(\"time :\", exectime)"
      ],
      "execution_count": 8,
      "outputs": [
        {
          "output_type": "stream",
          "text": [
            "array([0.70710678, 0.        , 0.        , 0.70710678])\n",
            "time : 0.00033211708068847656\n"
          ],
          "name": "stdout"
        }
      ]
    },
    {
      "cell_type": "markdown",
      "metadata": {
        "id": "sxkPS22wgcvb",
        "colab_type": "text"
      },
      "source": [
        "###GPU"
      ]
    },
    {
      "cell_type": "code",
      "metadata": {
        "id": "Aq9K-Z_-Gs5h",
        "colab_type": "code",
        "outputId": "49d20730-84d0-4963-812e-15e9e6011cb0",
        "colab": {
          "base_uri": "https://localhost:8080/",
          "height": 51
        }
      },
      "source": [
        "H = cp.kron(h_gpu, id_gpu)  # Tensor product of h gate and id gate (h gate for first qubit) \n",
        "\n",
        "start = time.time()  # timer start\n",
        "\n",
        "initial_state = cp.array(((1, 0, 0, 0)))  # Initial state is |00>\n",
        "  \n",
        "output = cp.dot(cp.dot(initial_state, H), cnot_gpu)  #  Making quantum entanglement.\n",
        "\n",
        "exectime = time.time() - start  # timer stop\n",
        "\n",
        "pprint(output)\n",
        "print(\"time :\", exectime)"
      ],
      "execution_count": 9,
      "outputs": [
        {
          "output_type": "stream",
          "text": [
            "array([0.70710678, 0.        , 0.        , 0.70710678])\n",
            "time : 0.0005655288696289062\n"
          ],
          "name": "stdout"
        }
      ]
    },
    {
      "cell_type": "markdown",
      "metadata": {
        "id": "qaaVoN5GnXwi",
        "colab_type": "text"
      },
      "source": [
        "Execution time of GPU simulator is longer than CPU, right?  \n",
        "How about this?\n"
      ]
    },
    {
      "cell_type": "markdown",
      "metadata": {
        "id": "4tGiB4gpnp4N",
        "colab_type": "text"
      },
      "source": [
        "## 10 Qubit\n",
        "\n"
      ]
    },
    {
      "cell_type": "markdown",
      "metadata": {
        "id": "Cv6DM6BvB-um",
        "colab_type": "text"
      },
      "source": [
        "Making **Quantum Fourier Transform.**\n"
      ]
    },
    {
      "cell_type": "markdown",
      "metadata": {
        "id": "j_U2wVTpCEKo",
        "colab_type": "text"
      },
      "source": [
        "### Qiskit (just making circuit figure)\n"
      ]
    },
    {
      "cell_type": "code",
      "metadata": {
        "id": "N5-EJ9ZDCI7P",
        "colab_type": "code",
        "outputId": "aa7e4f63-a778-4f9c-db7b-b706f52e86ac",
        "colab": {
          "base_uri": "https://localhost:8080/",
          "height": 1635
        }
      },
      "source": [
        "q = QuantumRegister(10)\n",
        "c = ClassicalRegister(1)\n",
        "qc = QuantumCircuit(q, c)\n",
        "\n",
        "for i in range(10):\n",
        "  qc.h(q[i])\n",
        "  for j in range(i+1, 10):\n",
        "    qc.cu1((2*np.pi/(2**(j-i+1))), q[i], q[j])\n",
        "qc.draw(output=\"mpl\")"
      ],
      "execution_count": 10,
      "outputs": [
        {
          "output_type": "execute_result",
          "data": {
            "image/png": "[encoded data removed]",
            "text/plain": [
              "<Figure size 1384.6x2125.06 with 1 Axes>"
            ]
          },
          "metadata": {
            "tags": []
          },
          "execution_count": 10
        }
      ]
    },
    {
      "cell_type": "markdown",
      "metadata": {
        "id": "Er93_7z5CCRF",
        "colab_type": "text"
      },
      "source": [
        "###CPU"
      ]
    },
    {
      "cell_type": "markdown",
      "metadata": {
        "id": "844m0oJrFsJO",
        "colab_type": "text"
      },
      "source": [
        "This takes a little time. please wait..."
      ]
    },
    {
      "cell_type": "code",
      "metadata": {
        "id": "MK4E_1tVnpKy",
        "colab_type": "code",
        "outputId": "2eaf9a88-44b6-4adb-8b44-6d804f8e54b6",
        "colab": {
          "base_uri": "https://localhost:8080/",
          "height": 68
        }
      },
      "source": [
        "  initial_state = np.zeros(2**10)\n",
        "  initial_state[0] = 1  # making initial state |00...00>\n",
        "  \n",
        "  start = time.time()  # start timer\n",
        "  \n",
        "  state = initial_state\n",
        "  for c in range(10):\n",
        "    state = np.dot(state, hcpu(c))\n",
        "    for t in range(c+1, 10):\n",
        "      state = np.dot(state, cu1_cpu(2*np.pi/(2**(t-c+1)), c, t))\n",
        "      \n",
        "  exectime = time.time() - start  # stop timer\n",
        "  \n",
        "  print(exectime)\n",
        "  print(state)"
      ],
      "execution_count": 11,
      "outputs": [
        {
          "output_type": "stream",
          "text": [
            "16.456974029541016\n",
            "[0.03125+0.j 0.03125+0.j 0.03125+0.j ... 0.03125+0.j 0.03125+0.j\n",
            " 0.03125+0.j]\n"
          ],
          "name": "stdout"
        }
      ]
    },
    {
      "cell_type": "markdown",
      "metadata": {
        "id": "sMGGH56BvfGt",
        "colab_type": "text"
      },
      "source": [
        "###GPU"
      ]
    },
    {
      "cell_type": "code",
      "metadata": {
        "id": "uLEV81FFvos9",
        "colab_type": "code",
        "outputId": "cd904199-f0e9-4e51-d4aa-22e972cced44",
        "colab": {
          "base_uri": "https://localhost:8080/",
          "height": 68
        }
      },
      "source": [
        "  initial_state = cp.zeros(2**10)\n",
        "  initial_state[0] = 1  # making initial state |00...00>\n",
        "  \n",
        "  start = time.time()  # start timer\n",
        "  \n",
        "  state = initial_state\n",
        "  for c in range(10):\n",
        "    state = cp.dot(state, hgpu(c))\n",
        "    for t in range(c+1, 10):\n",
        "      state = cp.dot(state, cu1_gpu(2*np.pi/(2**(t-c+1)), c, t))\n",
        "      \n",
        "  exectime = time.time() - start  # stop timer\n",
        "  print(exectime)\n",
        "  print(state)"
      ],
      "execution_count": 12,
      "outputs": [
        {
          "output_type": "stream",
          "text": [
            "4.943809509277344\n",
            "[0.03125+0.j 0.03125+0.j 0.03125+0.j ... 0.03125+0.j 0.03125+0.j\n",
            " 0.03125+0.j]\n"
          ],
          "name": "stdout"
        }
      ]
    },
    {
      "cell_type": "markdown",
      "metadata": {
        "id": "pm25H9z-vgtz",
        "colab_type": "text"
      },
      "source": [
        "##Appendix"
      ]
    },
    {
      "cell_type": "markdown",
      "metadata": {
        "id": "INPMsEhSLTeB",
        "colab_type": "text"
      },
      "source": [
        "Where is the threashold of cpu and gpu simulation?"
      ]
    },
    {
      "cell_type": "code",
      "metadata": {
        "id": "QJ8VkKmXLSy_",
        "colab_type": "code",
        "colab": {}
      },
      "source": [
        "qubit = [2, 3, 4, 5, 6, 7, 8, 9, 10]\n",
        "exec_time_cpu = []\n",
        "exec_time_gpu = []"
      ],
      "execution_count": 0,
      "outputs": []
    },
    {
      "cell_type": "markdown",
      "metadata": {
        "id": "OzcknojPMLzt",
        "colab_type": "text"
      },
      "source": [
        "**CPU**"
      ]
    },
    {
      "cell_type": "code",
      "metadata": {
        "id": "ry7v_zIBMKI5",
        "colab_type": "code",
        "outputId": "8a289eea-8344-4d81-d662-a831d3212931",
        "colab": {
          "base_uri": "https://localhost:8080/",
          "height": 34
        }
      },
      "source": [
        "for q in qubit:    \n",
        "    initial_state = np.zeros(2**q)\n",
        "    initial_state[0] = 1\n",
        "    start = time.time()\n",
        "    state = initial_state\n",
        "    for c in range(q):\n",
        "      state = np.dot(state, hcpu(c, qubits=q))\n",
        "      for t in range(c+1, q):\n",
        "        state = np.dot(state, cu1_cpu(1/(2**(t-c+1)), c, t, qubits=q))\n",
        "    exectime = time.time() - start\n",
        "    exec_time_cpu.append(exectime)\n",
        "#     print(exectime)\n",
        "#     print(state)\n",
        "print(\"done!\")\n",
        "  "
      ],
      "execution_count": 14,
      "outputs": [
        {
          "output_type": "stream",
          "text": [
            "done!\n"
          ],
          "name": "stdout"
        }
      ]
    },
    {
      "cell_type": "markdown",
      "metadata": {
        "id": "qOAFe75hMNpa",
        "colab_type": "text"
      },
      "source": [
        "**GPU**"
      ]
    },
    {
      "cell_type": "code",
      "metadata": {
        "id": "u8_pjpjIMSlu",
        "colab_type": "code",
        "outputId": "ee6fb134-2a19-4915-9070-d89bcb02225c",
        "colab": {
          "base_uri": "https://localhost:8080/",
          "height": 34
        }
      },
      "source": [
        "  for q in qubit:\n",
        "    initial_state = cp.zeros(2**q)\n",
        "    initial_state[0] = 1\n",
        "    start = time.time()\n",
        "    state = initial_state\n",
        "    for c in range(q):\n",
        "      state = cp.dot(state, hgpu(c, qubits=q))\n",
        "      for t in range(c+1, q):\n",
        "        state = cp.dot(state, cu1_gpu(1/(2**(t-c+1)), c, t, qubits=q))\n",
        "    exectime = time.time() - start\n",
        "    exec_time_gpu.append(exectime)\n",
        "#     print(exectime)\n",
        "#     print(state)\n",
        "print(\"done!\")\n"
      ],
      "execution_count": 15,
      "outputs": [
        {
          "output_type": "stream",
          "text": [
            "done!\n"
          ],
          "name": "stdout"
        }
      ]
    },
    {
      "cell_type": "code",
      "metadata": {
        "id": "1tduvGIsNVOp",
        "colab_type": "code",
        "outputId": "0c60c76c-7a2b-4af9-d62d-04be21c07898",
        "colab": {
          "base_uri": "https://localhost:8080/",
          "height": 300
        }
      },
      "source": [
        "import matplotlib.pyplot as plt\n",
        "\n",
        "plt.plot(qubit, exec_time_cpu, label=\"cpu\")\n",
        "plt.plot(qubit, exec_time_gpu, label=\"gpu\")\n",
        "plt.xlabel(\"number of qubits\")\n",
        "plt.ylabel(\"exection time\")\n",
        "plt.legend(fontsize=20)"
      ],
      "execution_count": 16,
      "outputs": [
        {
          "output_type": "execute_result",
          "data": {
            "text/plain": [
              "<matplotlib.legend.Legend at 0x7f0958a10e48>"
            ]
          },
          "metadata": {
            "tags": []
          },
          "execution_count": 16
        },
        {
          "output_type": "display_data",
          "data": {
            "image/png": "[encoded data removed]",
            "text/plain": [
              "<Figure size 432x288 with 1 Axes>"
            ]
          },
          "metadata": {
            "tags": []
          }
        }
      ]
    }
  ]
}