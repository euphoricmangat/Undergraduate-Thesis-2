{
 "cells": [
  {
   "cell_type": "markdown",
   "metadata": {},
   "source": [
    "The Fourier transform occurs in many different versions throughout classical computing, in areas ranging from signal processing to data compression to complexity theory. The quantum Fourier transform (QFT) is the quantum implementation of the discrete Fourier transform over the amplitudes of a wave function. It is part of many quantum algorithms, most notably Shor's factoring algorithm and quantum phase estimation."
   ]
  },
  {
   "cell_type": "code",
   "execution_count": 3,
   "metadata": {},
   "outputs": [],
   "source": [
    "import math\n",
    "import numpy as np\n",
    "\n",
    "# importing Qiskit\n",
    "from qiskit import IBMQ, Aer\n",
    "from qiskit.providers.ibmq import least_busy\n",
    "from qiskit import QuantumCircuit, ClassicalRegister, QuantumRegister, execute\n",
    "\n",
    "# import basic plot tools\n",
    "from qiskit.tools.visualization import plot_histogram\n",
    "from qiskit.tools.monitor import job_monitor\n",
    "from qiskit.tools.visualization import plot_histogram"
   ]
  },
  {
   "cell_type": "markdown",
   "metadata": {},
   "source": [
    " For the three-qubit case:"
   ]
  },
  {
   "cell_type": "markdown",
   "metadata": {},
   "source": [
    "`q = QuantumRegister(3)`\n",
    "\n",
    "`c = ClassicalRegister(3)`\n",
    "\n",
    "`qft3 = QuantumCircuit(q, c)`\n",
    "\n",
    "`qft3.h(q[0])`\n",
    "\n",
    "`qft3.cu1(math.pi/2.0, q[1], q[0]) # CROT_2 from q[1] to q[0]`\n",
    "\n",
    "`qft3.cu1(math.pi/4.0, q[2], q[0]) # CROT_3 from q[2] to q[0]`\n",
    "\n",
    "`qft3.h(q[1])`\n",
    "\n",
    "`qft3.cu1(math.pi/2.0, q[2], q[1]) # CROT_2 from q[2] to q[1]`\n",
    "\n",
    "`qft3.h(q[2])`"
   ]
  },
  {
   "cell_type": "markdown",
   "metadata": {},
   "source": [
    "Following the above example, the case for n-qubits can be generalized as:"
   ]
  },
  {
   "cell_type": "code",
   "execution_count": 5,
   "metadata": {},
   "outputs": [],
   "source": [
    "def qft(circ, q, n):\n",
    "    \"\"\"n-qubit QFT on q in circ.\"\"\"\n",
    "    for j in range(n):\n",
    "        circ.h(q[j])\n",
    "        for k in range(j+1,n):\n",
    "            circ.cu1(math.pi/float(2**(k-j)), q[k], q[j])"
   ]
  },
  {
   "cell_type": "code",
   "execution_count": 6,
   "metadata": {},
   "outputs": [],
   "source": [
    "def input_state(circ, q, n):\n",
    "    \"\"\"n-qubit input state for QFT that produces output 1.\"\"\"\n",
    "    for j in range(n):\n",
    "        circ.h(q[j])\n",
    "        circ.u1(math.pi/float(2**(j)), q[j]).inverse()"
   ]
  },
  {
   "cell_type": "markdown",
   "metadata": {},
   "source": [
    "A QFT on a prepared three-qubit input state that should return 111."
   ]
  },
  {
   "cell_type": "code",
   "execution_count": 10,
   "metadata": {},
   "outputs": [
    {
     "name": "stdout",
     "output_type": "stream",
     "text": [
      "OPENQASM 2.0;\n",
      "include \"qelib1.inc\";\n",
      "qreg x[3];\n",
      "creg c[3];\n",
      "h x[0];\n",
      "u1(3.14159265358979) x[0];\n",
      "h x[1];\n",
      "u1(1.57079632679490) x[1];\n",
      "h x[2];\n",
      "u1(0.785398163397448) x[2];\n",
      "\n"
     ]
    },
    {
     "data": {
      "image/png": "[encoded data removed]",
      "text/plain": [
       "<Figure size 301x379.26 with 1 Axes>"
      ]
     },
     "execution_count": 10,
     "metadata": {},
     "output_type": "execute_result"
    }
   ],
   "source": [
    "q = QuantumRegister(3, 'x')\n",
    "c = ClassicalRegister(3, 'c')\n",
    "qft3 = QuantumCircuit(q, c)\n",
    "\n",
    "# first, prepare the state that should return 111 and draw that circuit:\n",
    "input_state(qft3, q, 3)\n",
    "\n",
    "print(qft3.qasm())\n",
    "qft3.draw(output='mpl')"
   ]
  },
  {
   "cell_type": "markdown",
   "metadata": {},
   "source": [
    " a QFT on the prepared state and drawing the entire circuit:"
   ]
  },
  {
   "cell_type": "code",
   "execution_count": 8,
   "metadata": {},
   "outputs": [
    {
     "name": "stdout",
     "output_type": "stream",
     "text": [
      "OPENQASM 2.0;\n",
      "include \"qelib1.inc\";\n",
      "qreg x[3];\n",
      "creg c[3];\n",
      "h x[0];\n",
      "u1(3.14159265358979) x[0];\n",
      "h x[1];\n",
      "u1(1.57079632679490) x[1];\n",
      "h x[2];\n",
      "u1(0.785398163397448) x[2];\n",
      "h x[0];\n",
      "cu1(1.57079632679490) x[1],x[0];\n",
      "cu1(0.785398163397448) x[2],x[0];\n",
      "h x[1];\n",
      "cu1(1.57079632679490) x[2],x[1];\n",
      "h x[2];\n",
      "measure x[0] -> c[0];\n",
      "measure x[1] -> c[1];\n",
      "measure x[2] -> c[2];\n",
      "\n"
     ]
    },
    {
     "data": {
      "image/png": "[encoded data removed]",
      "text/plain": [
       "<Figure size 1023.4x379.26 with 1 Axes>"
      ]
     },
     "execution_count": 8,
     "metadata": {},
     "output_type": "execute_result"
    }
   ],
   "source": [
    "qft(qft3, q, 3)\n",
    "for i in range(3):\n",
    "    qft3.measure(q[i], c[i])\n",
    "\n",
    "print(qft3.qasm())\n",
    "qft3.draw(output='mpl')"
   ]
  },
  {
   "cell_type": "code",
   "execution_count": 9,
   "metadata": {},
   "outputs": [
    {
     "data": {
      "text/plain": [
       "{'111': 1024}"
      ]
     },
     "execution_count": 9,
     "metadata": {},
     "output_type": "execute_result"
    }
   ],
   "source": [
    "backend = Aer.get_backend(\"qasm_simulator\")\n",
    "\n",
    "simulate = execute(qft3, backend=backend, shots=1024).result()\n",
    "simulate.get_counts()"
   ]
  },
  {
   "cell_type": "markdown",
   "metadata": {},
   "source": [
    "We indeed see that the outcome is always 111 when we execute the code on the simulator."
   ]
  }
 ],
 "metadata": {
  "kernelspec": {
   "display_name": "Python 3",
   "language": "python",
   "name": "python3"
  },
  "language_info": {
   "codemirror_mode": {
    "name": "ipython",
    "version": 3
   },
   "file_extension": ".py",
   "mimetype": "text/x-python",
   "name": "python",
   "nbconvert_exporter": "python",
   "pygments_lexer": "ipython3",
   "version": "3.6.7"
  }
 },
 "nbformat": 4,
 "nbformat_minor": 2
}
