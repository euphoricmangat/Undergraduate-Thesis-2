{
 "cells": [
  {
   "cell_type": "markdown",
   "metadata": {},
   "source": [
    "## Can I Run?\n",
    "\n",
    "In this example we will use a quantum computer to solve a classical Machine Learning problem: Given a set of constraints, if there are too many of them, then what is the right combination such that Malai is able to go for a run.\n",
    "\n",
    "For this example, we will take a look at 3 constraints:\n",
    "- Is it raining outside? - If yes, then I can't run\n",
    "- Is it cool outside? - If yes, then I can run\n",
    "- Need to drop son in school? - If yes, then I can't run\n",
    "- Time - I am an avid runner. I will run even if it is raining as long as it is between 5am and 7am"
   ]
  },
  {
   "cell_type": "markdown",
   "metadata": {},
   "source": [
    "Now to Define the different constraints:\n",
    "- If it rains (1), then malai will run only if the time is between 5am and 7am (1)\n",
    "- If it does not rain (0), and the time is not between 5am and 7am (0), he will run only if he does not have to drop his son (0) and if it is cool (1)\n",
    "- Finally, if it does not rain (0), but the time is between 5am and 7am (1), he will run."
   ]
  },
  {
   "cell_type": "code",
   "execution_count": 1,
   "metadata": {
    "collapsed": true
   },
   "outputs": [],
   "source": [
    "def cir(rain, time, drop, temp):\n",
    "    if rain:\n",
    "        return time\n",
    "    elif not(rain):\n",
    "        if time:\n",
    "            return time\n",
    "        elif not(time) and drop:\n",
    "            return time\n",
    "        elif not(time) and not(drop) and temp:\n",
    "            return temp\n",
    "        else:\n",
    "            return time"
   ]
  },
  {
   "cell_type": "code",
   "execution_count": 2,
   "metadata": {
    "collapsed": true
   },
   "outputs": [],
   "source": [
    "from IPython.display import Image\n",
    "#Image(filename='img.png')"
   ]
  },
  {
   "cell_type": "markdown",
   "metadata": {},
   "source": [
    "First we start by importing all the DWave Packages and initialising the DWave solver.\n",
    "We add the constraints that we discussed previously."
   ]
  },
  {
   "cell_type": "code",
   "execution_count": 3,
   "metadata": {
    "collapsed": true
   },
   "outputs": [],
   "source": [
    "import dwavebinarycsp\n",
    "\n",
    "csp = dwavebinarycsp.ConstraintSatisfactionProblem(dwavebinarycsp.BINARY)\n",
    "\n",
    "#Our constraints in this case are rain, temperature, drop and time.\n",
    "csp.add_constraint(cir, ['rain', 'time', 'drop', 'temp'])"
   ]
  },
  {
   "cell_type": "code",
   "execution_count": 4,
   "metadata": {},
   "outputs": [
    {
     "name": "stdout",
     "output_type": "stream",
     "text": [
      "Solver: DW_2000Q_2_1\r\n",
      "  Parameters:\r\n",
      "    anneal_offsets: A list of anneal offsets for each working qubit (NaN if u...\r\n",
      "    anneal_schedule: A piecewise linear annealing schedule specified by a list...\r\n",
      "    annealing_time: A positive integer that sets the duration (in microsecond...\r\n",
      "    answer_mode: ?\r\n",
      "    auto_scale: ?\r\n",
      "    beta: Boltzmann distribution parameter. Only used when postproc...\r\n",
      "    chains: Defines which qubits represent the same logical variable ...\r\n",
      "    flux_biases: A list of flux biases for each working qubit.\r\n",
      "    flux_drift_compensation: A boolean for whether to activate the flux drift compensa...\r\n",
      "    h_gain_schedule: A piecewise linear h-gain schedule specified by a list of...\r\n",
      "    initial_state: The initial states to use for the reverse anneal feature.\r\n",
      "    max_answers: ?\r\n",
      "    num_reads: ?\r\n",
      "    num_spin_reversal_transforms: ?\r\n",
      "    postprocess: either 'sampling' or 'optimization'\r\n",
      "    programming_thermalization: An integer that gives the time (in microseconds) to wait ...\r\n",
      "    readout_thermalization: An integer that gives the time (in microseconds) to wait ...\r\n",
      "    reduce_intersample_correlation: A boolean for whether to add pauses between samples.\r\n",
      "    reinitialize_state: Whether to reapply the initial_state for every read.\r\n",
      "  Properties:\r\n",
      "    anneal_offset_ranges: [[-0.18627387668142237, 0.09542224439071689], [-0.1836548...\r\n",
      "    anneal_offset_step: 0.004266738445272551\r\n",
      "    anneal_offset_step_phi0: 0.0002716801020270571\r\n",
      "    annealing_time_range: [1, 2000]\r\n",
      "    chip_id: DW_2000Q_2_1\r\n",
      "    couplers: [[0, 4], [1, 4], [2, 4], [3, 4], [0, 5], [1, 5], [2, 5], ...\r\n",
      "    default_annealing_time: 20\r\n",
      "    default_programming_thermalization: 1000\r\n",
      "    default_readout_thermalization: 0\r\n",
      "    extended_j_range: [-2.0, 1.0]\r\n",
      "    h_gain_schedule_range: [-5.0, 5.0]\r\n",
      "    h_range: [-2.0, 2.0]\r\n",
      "    j_range: [-1.0, 1.0]\r\n",
      "    max_anneal_schedule_points: 4\r\n",
      "    max_h_gain_schedule_points: 20\r\n",
      "    num_qubits: 2048\r\n",
      "    num_reads_range: [1, 10000]\r\n",
      "    per_qubit_coupling_range: [-9.0, 6.0]\r\n",
      "    problem_run_duration_range: [0, 1000000]\r\n",
      "    programming_thermalization_range: [0, 10000]\r\n",
      "    qubits: [0, 1, 2, 3, 4, 5, 6, 7, 8, 9, 10, 11, 12, 13, 14, 15, 16...\r\n",
      "    readout_thermalization_range: [0, 10000]\r\n",
      "    supported_problem_types: ['ising', 'qubo']\r\n",
      "    tags: []\r\n",
      "    topology: {'type': 'chimera', 'shape': [16, 16, 4]}\r\n",
      "    vfyc: False\r\n",
      "  Derived properties:\r\n",
      "    avg_load: 0.0\r\n",
      "    lower_noise: False\r\n",
      "    name: DW_2000Q_2_1\r\n",
      "    num_active_qubits: 2038\r\n",
      "    online: True\r\n",
      "    qpu: True\r\n",
      "    software: False\r\n",
      "\r\n",
      "Solver: DW_2000Q_5\r\n",
      "  Parameters:\r\n",
      "    anneal_offsets: A list of anneal offsets for each working qubit (NaN if u...\r\n",
      "    anneal_schedule: A piecewise linear annealing schedule specified by a list...\r\n",
      "    annealing_time: A positive integer that sets the duration (in microsecond...\r\n",
      "    answer_mode: ?\r\n",
      "    auto_scale: ?\r\n",
      "    beta: Boltzmann distribution parameter. Only used when postproc...\r\n",
      "    chains: Defines which qubits represent the same logical variable ...\r\n",
      "    flux_biases: A list of flux biases for each working qubit.\r\n",
      "    flux_drift_compensation: A boolean for whether to activate the flux drift compensa...\r\n",
      "    h_gain_schedule: A piecewise linear h-gain schedule specified by a list of...\r\n",
      "    initial_state: The initial states to use for the reverse anneal feature.\r\n",
      "    max_answers: ?\r\n",
      "    num_reads: ?\r\n",
      "    num_spin_reversal_transforms: ?\r\n",
      "    postprocess: either 'sampling' or 'optimization'\r\n",
      "    programming_thermalization: An integer that gives the time (in microseconds) to wait ...\r\n",
      "    readout_thermalization: An integer that gives the time (in microseconds) to wait ...\r\n",
      "    reduce_intersample_correlation: A boolean for whether to add pauses between samples.\r\n",
      "    reinitialize_state: Whether to reapply the initial_state for every read.\r\n",
      "  Properties:\r\n",
      "    anneal_offset_ranges: [[-0.15204190977844673, 0.009690342517740725], [-0.149354...\r\n",
      "    anneal_offset_step: 0.003410934374257219\r\n",
      "    anneal_offset_step_phi0: 0.00028008137932177067\r\n",
      "    annealing_time_range: [1, 2000]\r\n",
      "    chip_id: DW_2000Q_5\r\n",
      "    couplers: [[0, 4], [1, 4], [2, 4], [3, 4], [0, 5], [1, 5], [2, 5], ...\r\n",
      "    default_annealing_time: 20\r\n",
      "    default_programming_thermalization: 1000\r\n",
      "    default_readout_thermalization: 0\r\n",
      "    extended_j_range: [-2.0, 1.0]\r\n",
      "    h_gain_schedule_range: [-5.0, 5.0]\r\n",
      "    h_range: [-2.0, 2.0]\r\n",
      "    j_range: [-1.0, 1.0]\r\n",
      "    max_anneal_schedule_points: 4\r\n",
      "    max_h_gain_schedule_points: 20\r\n",
      "    num_qubits: 2048\r\n",
      "    num_reads_range: [1, 10000]\r\n",
      "    per_qubit_coupling_range: [-9.0, 6.0]\r\n",
      "    problem_run_duration_range: [0, 1000000]\r\n",
      "    programming_thermalization_range: [0, 10000]\r\n",
      "    qubits: [0, 1, 2, 3, 4, 5, 6, 7, 8, 9, 10, 11, 12, 13, 14, 15, 16...\r\n",
      "    readout_thermalization_range: [0, 10000]\r\n",
      "    supported_problem_types: ['ising', 'qubo']\r\n",
      "    tags: ['lower_noise']\r\n",
      "    topology: {'type': 'chimera', 'shape': [16, 16, 4]}\r\n",
      "    vfyc: False\r\n",
      "  Derived properties:\r\n",
      "    avg_load: 0.0\r\n",
      "    lower_noise: True\r\n",
      "    name: DW_2000Q_5\r\n",
      "    num_active_qubits: 2030\r\n",
      "    online: True\r\n",
      "    qpu: True\r\n",
      "    software: False\r\n",
      "\r\n"
     ]
    }
   ],
   "source": [
    "!dwave solvers"
   ]
  },
  {
   "cell_type": "code",
   "execution_count": 5,
   "metadata": {},
   "outputs": [
    {
     "name": "stdout",
     "output_type": "stream",
     "text": [
      "Using endpoint: https://cloud.dwavesys.com/sapi\n",
      "Using solver: DW_2000Q_5\n",
      "Submitted problem ID: 921a46bc-4bec-4400-8c01-2719a597534e\n",
      "\n",
      "Wall clock time:\n",
      " * Solver definition fetch: 2829.745 ms\n",
      " * Problem submit and results fetch: 1445.095 ms\n",
      " * Total: 4274.840 ms\n",
      "\n",
      "QPU timing:\n",
      " * anneal_time_per_run = 20 us\n",
      " * total_real_time = 10015 us\n",
      " * qpu_access_overhead_time = 1764 us\n",
      " * qpu_readout_time_per_sample = 274 us\n",
      " * qpu_anneal_time_per_sample = 20 us\n",
      " * readout_time_per_run = 274 us\n",
      " * qpu_access_time = 10015 us\n",
      " * run_time_chip = 315 us\n",
      " * post_processing_overhead_time = 333 us\n",
      " * total_post_processing_time = 333 us\n",
      " * qpu_programming_time = 9700 us\n",
      " * qpu_delay_time_per_sample = 21 us\n",
      " * qpu_sampling_time = 315 us\n"
     ]
    }
   ],
   "source": [
    "!dwave ping"
   ]
  },
  {
   "cell_type": "code",
   "execution_count": 11,
   "metadata": {
    "collapsed": true
   },
   "outputs": [],
   "source": [
    "%matplotlib inline"
   ]
  },
  {
   "cell_type": "code",
   "execution_count": 12,
   "metadata": {},
   "outputs": [
    {
     "name": "stdout",
     "output_type": "stream",
     "text": [
      "The BQM is\n"
     ]
    },
    {
     "data": {
      "text/plain": [
       "<dimod.views.bqm.QuadraticView at 0x7f091b453e88>"
      ]
     },
     "execution_count": 12,
     "metadata": {},
     "output_type": "execute_result"
    }
   ],
   "source": [
    "bqm = dwavebinarycsp.stitch(csp)\n",
    "\n",
    "print('The BQM is')\n",
    "bqm.quadratic"
   ]
  },
  {
   "cell_type": "markdown",
   "metadata": {},
   "source": [
    "Running it on the DWave System"
   ]
  },
  {
   "cell_type": "code",
   "execution_count": 13,
   "metadata": {},
   "outputs": [
    {
     "name": "stdout",
     "output_type": "stream",
     "text": [
      "Total Time Taken to get result: 5.12 sec\n"
     ]
    }
   ],
   "source": [
    "from dwave.system.samplers import DWaveSampler\n",
    "from dwave.system.composites import EmbeddingComposite\n",
    "sampler = EmbeddingComposite(DWaveSampler())\n",
    "\n",
    "import time\n",
    "start_time=time.time()\n",
    "response = sampler.sample(bqm, num_reads=5000)\n",
    "request_time=time.time()-start_time\n",
    "\n",
    "print(\"Total Time Taken to get result: {} sec\".format(round(request_time, 2)))"
   ]
  },
  {
   "cell_type": "markdown",
   "metadata": {},
   "source": [
    "Getting the Answers"
   ]
  },
  {
   "cell_type": "code",
   "execution_count": 14,
   "metadata": {},
   "outputs": [
    {
     "name": "stdout",
     "output_type": "stream",
     "text": [
      "\n",
      "No. of Low Energy state answers: 5000\n",
      "No. of High Energy State Answers: 0\n"
     ]
    }
   ],
   "source": [
    "# total = 0\n",
    "# for sample, energy, occurrences in response.data(['sample', 'energy', 'num_occurrences']):\n",
    "#     total = total + occurrences\n",
    "#     if energy == min_energy:\n",
    "#         time = 'business hours' if sample['time'] else 'evenings'\n",
    "#         location = 'office' if sample['location'] else 'home'\n",
    "#         length = 'short' if sample['length'] else 'long'\n",
    "#         mandatory = 'mandatory' if sample['mandatory'] else 'optional'\n",
    "#         print(\"{}: During {} at {}, you can schedule a {} meeting that is {}\".format(occurrences, time, location, length, mandatory))\n",
    "#     print(\"Total occurrences: \", total)\n",
    "\n",
    "valid, invalid, data = 0, 0, []\n",
    "for datum in response.data(['sample', 'energy', 'num_occurrences']):\n",
    "    if (csp.check(datum.sample)):\n",
    "        valid = valid+datum.num_occurrences\n",
    "        for i in range(datum.num_occurrences):\n",
    "            data.append((datum.sample, datum.energy, '1'))\n",
    "    else:\n",
    "        invalid = invalid+datum.num_occurrences\n",
    "        for i in range(datum.num_occurrences):\n",
    "            data.append((datum.sample, datum.energy, '0'))\n",
    "print(\"\\nNo. of Low Energy state answers: {}\".format(valid))\n",
    "print(\"No. of High Energy State Answers: {}\".format(invalid))"
   ]
  },
  {
   "cell_type": "code",
   "execution_count": 16,
   "metadata": {},
   "outputs": [
    {
     "name": "stdout",
     "output_type": "stream",
     "text": [
      "Even though it is raining, since the time is fine, I can run. \n",
      " (1, 1, 0, 1) Energy: 0.0\n",
      "It is not raining and the time is perfect, I will go for a run. \n",
      " (0, 1, 1, 0) Energy: 0.0\n",
      "Even though it is raining, since the time is fine, I can run. \n",
      " (1, 1, 1, 0) Energy: 0.0\n",
      "It is not raining and the time is perfect, I will go for a run. \n",
      " (0, 1, 0, 1) Energy: 0.0\n",
      "Even though it is raining, since the time is fine, I can run. \n",
      " (1, 1, 0, 0) Energy: 0.0\n",
      "Neither is it raining, nor is it hot and I don't have to drop my son off at school. I will go for a run. \n",
      " (0, 0, 0, 1) Energy: -1.9999999967268423e-07\n",
      "It is not raining and the time is perfect, I will go for a run. \n",
      " (0, 1, 1, 1) Energy: 0.0\n",
      "It is not raining and the time is perfect, I will go for a run. \n",
      " (0, 1, 0, 0) Energy: 0.0\n",
      "Even though it is raining, since the time is fine, I can run. \n",
      " (1, 1, 1, 1) Energy: 0.0\n",
      "\n",
      "Total Real Time Required by Quantum Computer: 17.429324 seconds\n",
      "Average Time Required in Quantum Computer per Iteration: 20.0 microseconds!\n"
     ]
    }
   ],
   "source": [
    "results_dict={}\n",
    "total_time=0\n",
    "qpu_time=0\n",
    "num=0\n",
    "\n",
    "for sample, energy in response.data(['sample', 'energy']):\n",
    "    #import ipdb; ipdb.set_trace()\n",
    "    rain_value=sample['rain']\n",
    "    temp_value=sample['temp']\n",
    "    drop_value=sample['drop']\n",
    "    time_value=sample['time']\n",
    "    #import ipdb; ipdb.set_trace()\n",
    "    if (rain_value, time_value, drop_value, temp_value) not in results_dict:\n",
    "        results_dict[(rain_value, time_value, drop_value, temp_value)] = energy\n",
    "    \n",
    "    total_time=total_time+response.info['timing']['total_real_time']\n",
    "    qpu_time=qpu_time+response.info['timing']['qpu_anneal_time_per_sample']\n",
    "    num=num+1\n",
    "#import ipdb; ipdb.set_trace()\n",
    "for result in results_dict:\n",
    "    if result[0]:\n",
    "        if result[1]:\n",
    "            print(\"Even though it is raining, since the time is fine, I can run. \\n {} Energy: {}\".format(result,results_dict[result]))\n",
    "        else:\n",
    "            print(\"It's raining, but the time is not right, so I won't run. \\n {} Energy: {}\".format(result,results_dict[result]))\n",
    "    elif not(result[0]):\n",
    "        if result[1]:\n",
    "            print(\"It is not raining and the time is perfect, I will go for a run. \\n {} Energy: {}\".format(result,results_dict[result]))\n",
    "        elif not(result[1]) and result[2]:\n",
    "            print(\"Even though it is not raining, the time is not right and I have to drop my son off at school. I wil not run. \\n {} Energy: {}\".format(result,results_dict[result]))\n",
    "        elif not(result[1]) and not(result[2]) and result[3]:\n",
    "            print(\"Neither is it raining, nor is it hot and I don't have to drop my son off at school. I will go for a run. \\n {} Energy: {}\".format(result,results_dict[result]))\n",
    "        elif not(result[1]) and not(result[2]) and not(result[3]):\n",
    "            print(\"It isn't raining, but it is hot so I won't go for a run. \\n {} Energy: {}\".format(result,results_dict[result]))\n",
    "    else:\n",
    "        print('Incorrect Result: \\n {} Energy: {results_dict[result]}'.format(result,results_dict[result]))\n",
    "\n",
    "print(\"\\nTotal Real Time Required by Quantum Computer: {} seconds\".format(total_time/1000000))\n",
    "#print(f\"\\nTime per Iteration: {(total_time/1000000)} milli seconds\")\n",
    "print(\"Average Time Required in Quantum Computer per Iteration: {} microseconds!\".format(qpu_time/num))"
   ]
  },
  {
   "cell_type": "code",
   "execution_count": null,
   "metadata": {
    "collapsed": true
   },
   "outputs": [],
   "source": []
  }
 ],
 "metadata": {
  "kernelspec": {
   "display_name": "Python 3",
   "language": "python",
   "name": "python3"
  },
  "language_info": {
   "codemirror_mode": {
    "name": "ipython",
    "version": 3
   },
   "file_extension": ".py",
   "mimetype": "text/x-python",
   "name": "python",
   "nbconvert_exporter": "python",
   "pygments_lexer": "ipython3",
   "version": "3.5.2"
  }
 },
 "nbformat": 4,
 "nbformat_minor": 2
}
