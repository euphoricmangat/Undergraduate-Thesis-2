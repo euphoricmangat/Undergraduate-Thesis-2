{
 "cells": [
  {
   "cell_type": "code",
   "execution_count": 1,
   "metadata": {
    "collapsed": true
   },
   "outputs": [],
   "source": [
    "import math"
   ]
  },
  {
   "cell_type": "code",
   "execution_count": 2,
   "metadata": {
    "collapsed": true
   },
   "outputs": [],
   "source": [
    "def to_bin(some_int, n):\n",
    "    \n",
    "    b = bin(some_int)[2:]\n",
    "    s = (n - len(b)) * '0' + b\n",
    "    return s\n"
   ]
  },
  {
   "cell_type": "code",
   "execution_count": null,
   "metadata": {
    "collapsed": true
   },
   "outputs": [],
   "source": [
    "def swap(state, x, y):\n",
    "    \n",
    "    # Step 1: \n",
    "    new_state = [0 for _ in range(len(state))]\n",
    "    \n",
    "    N = len(state)            # number of coefficients to represent the state\n",
    "    n = int(math.log(N, 2))   # number of qubits\n",
    "\n",
    "    # Step 2:\n",
    "    for i in range(2**n):\n",
    "        b = to_bin(i, n)\n",
    "        L = list(b)\n",
    "        L[x], L[y] = L[y], L[x]   # step 3\n",
    "        swapped_b = \"\".join(L)\n",
    "        new_i = int(swapped_b, 2)\n",
    "        new_state[new_i] = state[i]\n",
    "    return new_state    \n"
   ]
  },
  {
   "cell_type": "code",
   "execution_count": 3,
   "metadata": {
    "collapsed": true
   },
   "outputs": [],
   "source": [
    "def hadamard(state, i):\n",
    "    \n",
    "    # Step 1: \n",
    "    new_state = [0.0 for _ in range(len(state))]\n",
    "    \n",
    "    N = len(state)            # number of coefficients to represent the state\n",
    "    n = int(math.log(N, 2))   # number of qubits\n",
    "\n",
    "    # Step 2:\n",
    "    for num in range(2**n):\n",
    "        b = to_bin(num, n)\n",
    "        L = list(b)\n",
    "        \n",
    "        L_b0 = L[:]\n",
    "        L_b0[i] = '0'\n",
    "        b0 = \"\".join(L_b0)\n",
    "        \n",
    "        L_b1 = L[:]\n",
    "        L_b1[i] = '1'\n",
    "        b1 = \"\".join(L_b1)\n",
    "        \n",
    "        if b[i] == '0':\n",
    "            new_state[int(b0, 2)] += 1.0/math.sqrt(2) * state[num]\n",
    "            new_state[int(b1, 2)] += 1.0/math.sqrt(2) * state[num]\n",
    "        else:\n",
    "            new_state[int(b0, 2)] += 1.0/math.sqrt(2) * state[num]\n",
    "            new_state[int(b1, 2)] -= 1.0/math.sqrt(2) * state[num]\n",
    "        # print(new_state)\n",
    "            \n",
    "    return new_state"
   ]
  },
  {
   "cell_type": "code",
   "execution_count": 4,
   "metadata": {
    "collapsed": true
   },
   "outputs": [],
   "source": [
    "def not_gate(state, i):\n",
    "    \n",
    "    \n",
    "    # Step 1: \n",
    "    new_state = [0.0 for _ in range(len(state))]\n",
    "    \n",
    "    N = len(state)            # number of coefficients to represent the state\n",
    "    n = int(math.log(N, 2))   # number of qubits\n",
    "\n",
    "    # Step 2:\n",
    "    for num in range(2**n):\n",
    "        b = to_bin(num, n)\n",
    "        L = list(b)\n",
    "        if b[i] == '0': L[i] = '1'\n",
    "        else: L[i] = '0'\n",
    "        new_b = \"\".join(L)\n",
    "        new_state[int(new_b, 2)] += state[num]\n",
    "        \n",
    "    return new_state"
   ]
  },
  {
   "cell_type": "code",
   "execution_count": 5,
   "metadata": {
    "collapsed": true
   },
   "outputs": [],
   "source": [
    "def controlled_not(state, x, y):\n",
    "    \n",
    "    # Step 1: \n",
    "    new_state = [0.0 for _ in range(len(state))]\n",
    "    \n",
    "    N = len(state)            # number of coefficients to represent the state\n",
    "    n = int(math.log(N, 2))   # number of qubits\n",
    "\n",
    "    # Step 2:\n",
    "    for num in range(2**n):\n",
    "        b = to_bin(num, n)\n",
    "        if b[x] == '0':\n",
    "            new_state[num] += state[num] \n",
    "        else:\n",
    "            L = list(b)\n",
    "            if L[y] == '0': L[y] = '1'\n",
    "            else: L[y] = '0'\n",
    "            new_b = \"\".join(L)\n",
    "            new_state[int(new_b, 2)] += state[num]\n",
    "    return new_state\n"
   ]
  },
  {
   "cell_type": "code",
   "execution_count": 6,
   "metadata": {
    "collapsed": true
   },
   "outputs": [],
   "source": [
    "def print_state_with_basis_vectors(state):\n",
    "    N = len(state)\n",
    "    n = int(math.log(N, 2))\n",
    "    EPSILON = 0.001\n",
    "    \n",
    "    for idx, coeff in enumerate(state):\n",
    "        #if coeff == 0.0:\n",
    "        #    continue\n",
    "        if (coeff.real) * (coeff.real) + (coeff.imag) * (coeff.imag) < EPSILON * EPSILON:\n",
    "            continue\n",
    "        b = to_bin(idx, n)\n",
    "        z = coeff\n",
    "        probability = z.real * z.real + z.imag * z.imag\n",
    "        \n",
    "        z_print = round(z.real, 3) + round(z.imag, 3) * 1j\n",
    "        print(z_print , \"\\t|\", b, \"> \\t probability: \", round(probability * 100,1), \"%\")\n"
   ]
  },
  {
   "cell_type": "code",
   "execution_count": 7,
   "metadata": {
    "collapsed": true
   },
   "outputs": [],
   "source": [
    "def new_state(num_qubits):\n",
    "    \n",
    "    state = [(0.0 + 0.0j) for _ in range(2**num_qubits)]\n",
    "    state[0] = 1.0 + 0.0j\n",
    "    return state\n",
    "    \n",
    "\n",
    "def new_empty_state(num_qubits):\n",
    "    \n",
    "    state = new_state(num_qubits)\n",
    "    state[0] = 0.0 + 0.0j\n",
    "    return state\n",
    "    \n",
    "    "
   ]
  },
  {
   "cell_type": "code",
   "execution_count": null,
   "metadata": {
    "collapsed": true
   },
   "outputs": [],
   "source": [
    "def test_swap():\n",
    "    # state = [0.2, 0.2+0.2j, 0.2, 0.2-0.2j, 0.2+0.2j, 0.2, 0.2, math.sqrt(0.6)]\n",
    "    # state = [0, 1, 2, 3, 4, 5, 6, 7]\n",
    "    num_qubits = 4\n",
    "    state = [(0.0 + 0.0j) for _ in range(2**num_qubits)]\n",
    "    state[0] = 0.5 + 0.0j\n",
    "    state[1] = 0.0 + 0.5j\n",
    "    state[12] = 0.5 + 0.0j\n",
    "    state[13] = 0.0 + 0.5j\n",
    "\n",
    "    \n",
    "    print(\"initial state:\")\n",
    "    print_state_with_basis_vectors(state)\n",
    "\n",
    "    state = swap(state, 0, num_qubits-1)    # swap qubits in position 0 and num_qubits-1\n",
    "    print(\"\\n\\n ---- new state after swap(0, 3):\")\n",
    "    print_state_with_basis_vectors(state)\n",
    "\n",
    "\n",
    "\n",
    "def test_swap_2():\n",
    "    \n",
    "    num_qubits = 4\n",
    "    state = new_empty_state(num_qubits)\n",
    "    state[int('0100', 2)] = 1.0 + 0.0j     # corresponds to the state |0100>\n",
    "    print(\"initial state:\")\n",
    "    print_state_with_basis_vectors(state)\n",
    "    \n",
    "    state = swap(state, 1, 3)\n",
    "    print(\"\\n\\n ---- new state after swap(1, 3):\")  # swap qubits in position 1 and 3\n",
    "    print_state_with_basis_vectors(state)\n",
    "    "
   ]
  },
  {
   "cell_type": "code",
   "execution_count": 8,
   "metadata": {
    "collapsed": true
   },
   "outputs": [],
   "source": [
    "def test_hadamard():\n",
    "    \n",
    "    num_qubits = 4\n",
    "    state = [0 for _ in range(2**num_qubits)]\n",
    "    \n",
    "    # initialize state as |0000>\n",
    "    state[0] = 1\n",
    "    \n",
    "    print(\"initial state:\")\n",
    "    print_state_with_basis_vectors(state)\n",
    "    \n",
    "    state = hadamard(state, 2)   # apply hadamard on qubit in position 2\n",
    "    print(\"\\n\\n ---- new state after hadamard(state, 2):\")\n",
    "    print_state_with_basis_vectors(state)\n",
    "    \n",
    "    state = hadamard(state, 0)   # apply hadamard on qubit in position 0\n",
    "    print(\"\\n\\n ---- new state after hadamard(state, 0):\")\n",
    "    print_state_with_basis_vectors(state)\n",
    "    \n",
    "    state = hadamard(state, 1)   # apply hadamard on qubit in position 1\n",
    "    print(\"\\n\\n ---- new state after hadamard(state, 1):\")\n",
    "    print_state_with_basis_vectors(state)\n",
    "    \n",
    "\n"
   ]
  },
  {
   "cell_type": "code",
   "execution_count": 9,
   "metadata": {
    "collapsed": true
   },
   "outputs": [],
   "source": [
    "def test_not_gate():\n",
    "    \n",
    "    num_qubits = 4\n",
    "    state = new_state(num_qubits)\n",
    "    \n",
    "    print(\"initial state:\")\n",
    "    print_state_with_basis_vectors(state)\n",
    "    \n",
    "    state = hadamard(state, 1)   # apply hadamard on qubit in position 1\n",
    "    print(\"\\n\\n ---- new state after hadamard(state, 1):\")\n",
    "    print_state_with_basis_vectors(state)\n",
    "    \n",
    "    state = not_gate(state, 2)    # apply not_gate on qubit in position 2\n",
    "    print(\"\\n\\n ---- new state after not_gate(state, 2):\")\n",
    "    print_state_with_basis_vectors(state)"
   ]
  },
  {
   "cell_type": "code",
   "execution_count": 10,
   "metadata": {
    "collapsed": true
   },
   "outputs": [],
   "source": [
    "\n",
    "def test_controlled_not():\n",
    "    \n",
    "    num_qubits = 4\n",
    "    state = new_state(num_qubits)\n",
    "    \n",
    "    print(\"initial state:\")\n",
    "    print_state_with_basis_vectors(state)\n",
    "    \n",
    "    state = hadamard(state, 1)   # apply hadamard on qubit in position 1\n",
    "    print(\"\\n\\n ---- new state after hadamard(state, 1):\")\n",
    "    print_state_with_basis_vectors(state)\n",
    "    \n",
    "    state = hadamard(state, 2)    # apply not_gate on qubit in position 2\n",
    "    print(\"\\n\\n ---- new state after not_gate(state, 2):\")\n",
    "    print_state_with_basis_vectors(state)\n",
    "\n",
    "    state = controlled_not(state, 1, 3)  # control qubit is in position 1, \n",
    "                                         # target qubit is in position 3 on the right\n",
    "    print(\"\\n\\n ---- new state after controlled_not(state, 1, 3):\")\n",
    "    print_state_with_basis_vectors(state)\n",
    "     \n",
    "\n",
    "def test_controlled_not_2():\n",
    "    \n",
    "    num_qubits = 4\n",
    "    state = new_empty_state(num_qubits)\n",
    "    state[2**num_qubits - 1] = 1.0 + 0j\n",
    "    print(state)\n",
    "    \n",
    "    print(\"initial state:\")\n",
    "    print_state_with_basis_vectors(state)\n",
    "    \n",
    "    state = hadamard(state, 1)   # apply hadamard on qubit in position 1\n",
    "    print(\"\\n\\n ---- new state after hadamard(state, 1):\")\n",
    "    print_state_with_basis_vectors(state)\n",
    "    \n",
    "    state = hadamard(state, 2)    # apply not_gate on qubit in position 2\n",
    "    print(\"\\n\\n ---- new state after not_gate(state, 2):\")\n",
    "    print_state_with_basis_vectors(state)\n",
    "\n",
    "    state = controlled_not(state, 1, 3)  # control qubit is in position 1, \n",
    "                                         # target qubit is in position 3 on the right\n",
    "    print(\"\\n\\n ---- new state after controlled_not(state, 1, 3):\")    print_state_with_basis_vectors(state)"
   ]
  },
  {
   "cell_type": "code",
   "execution_count": 11,
   "metadata": {},
   "outputs": [
    {
     "name": "stdout",
     "output_type": "stream",
     "text": [
      "[0j, 0j, 0j, 0j, 0j, 0j, 0j, 0j, 0j, 0j, 0j, 0j, 0j, 0j, 0j, (1+0j)]\n",
      "initial state:\n",
      "(1+0j) \t| 1111 > \t probability:  100.0 %\n",
      "\n",
      "\n",
      " ---- new state after hadamard(state, 1):\n",
      "(0.707+0j) \t| 1011 > \t probability:  50.0 %\n",
      "(-0.707+0j) \t| 1111 > \t probability:  50.0 %\n",
      "\n",
      "\n",
      " ---- new state after not_gate(state, 2):\n",
      "(0.5+0j) \t| 1001 > \t probability:  25.0 %\n",
      "(-0.5+0j) \t| 1011 > \t probability:  25.0 %\n",
      "(-0.5+0j) \t| 1101 > \t probability:  25.0 %\n",
      "(0.5+0j) \t| 1111 > \t probability:  25.0 %\n",
      "\n",
      "\n",
      " ---- new state after controlled_not(state, 1, 3):\n",
      "(0.5+0j) \t| 1001 > \t probability:  25.0 %\n",
      "(-0.5+0j) \t| 1011 > \t probability:  25.0 %\n",
      "(-0.5+0j) \t| 1100 > \t probability:  25.0 %\n",
      "(0.5+0j) \t| 1110 > \t probability:  25.0 %\n"
     ]
    }
   ],
   "source": [
    "if __name__ == '__main__':\n",
    "    # test_swap()\n",
    "    # test_swap_2()\n",
    "    # test_hadamard()\n",
    "    # test_not_gate()\n",
    "    # test_controlled_not()\n",
    "    test_controlled_not_2()\n",
    "    "
   ]
  }
 ],
 "metadata": {
  "kernelspec": {
   "display_name": "Python 3",
   "language": "python",
   "name": "python3"
  },
  "language_info": {
   "codemirror_mode": {
    "name": "ipython",
    "version": 3
   },
   "file_extension": ".py",
   "mimetype": "text/x-python",
   "name": "python",
   "nbconvert_exporter": "python",
   "pygments_lexer": "ipython3",
   "version": "3.5.2"
  }
 },
 "nbformat": 4,
 "nbformat_minor": 2
}
